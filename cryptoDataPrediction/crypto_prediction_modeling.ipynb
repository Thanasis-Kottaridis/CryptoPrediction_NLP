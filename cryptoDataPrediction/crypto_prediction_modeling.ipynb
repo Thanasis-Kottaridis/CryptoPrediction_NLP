{
 "cells": [
  {
   "cell_type": "markdown",
   "metadata": {
    "collapsed": true,
    "pycharm": {
     "name": "#%% md\n"
    }
   },
   "source": [
    "# Imports"
   ]
  },
  {
   "cell_type": "code",
   "source": [
    "import utils\n",
    "import numpy as np\n",
    "import pandas as pd\n",
    "import matplotlib.pyplot as plt\n",
    "from sklearn.preprocessing import StandardScaler, MinMaxScaler"
   ],
   "metadata": {
    "collapsed": false,
    "pycharm": {
     "name": "#%%\n"
    }
   },
   "execution_count": 1,
   "outputs": []
  },
  {
   "cell_type": "markdown",
   "source": [
    "## Get Processed Crypto Data\n",
    "- Get Data from mongo\n",
    "- store data in DF"
   ],
   "metadata": {
    "collapsed": false,
    "pycharm": {
     "name": "#%% md\n"
    }
   }
  },
  {
   "cell_type": "code",
   "execution_count": 2,
   "outputs": [
    {
     "data": {
      "text/plain": "                        _id  high_24h  last_24h  unix_timestamp   bid_24h  \\\n0  627127fabbd592fa2c7f25a9  62971.54  62561.13      1635527368  62559.74   \n1  627127fabbd592fa2c7f25aa  62971.54  62580.05      1635527309  62571.40   \n2  627127fabbd592fa2c7f25ab  62971.54  62591.17      1635527428  62582.19   \n3  627127fabbd592fa2c7f25ac  62971.54  62590.43      1635527672  62572.06   \n4  627127fabbd592fa2c7f25ad  62971.54  62600.43      1635527551  62587.09   \n\n   vwap_24h   volume_24h  low_24h   ask_24h  open_24h  high_1min  volume_1min  \\\n0  60908.08  5113.537402  56425.0  62561.13  60608.95   62565.90     1.425169   \n1  60907.24  5111.938615  56425.0  62580.05  60608.95   62580.05     0.046548   \n2  60908.89  5115.569587  56425.0  62596.03  60608.95   62597.65     2.112533   \n3  60909.91  5117.061581  56425.0  62590.43  60608.95   62615.00     0.596406   \n4  60909.54  5117.193435  56425.0  62606.26  60608.95   62600.43     0.657752   \n\n   low_1min  close_1min  open_1min  max_supply  circulating_supply  \\\n0  62539.20    62561.86   62545.45  21000000.0          18858012.0   \n1  62555.88    62577.47   62555.88  21000000.0          18858012.0   \n2  62555.02    62597.64   62560.95  21000000.0          18858012.0   \n3  62590.43    62590.43   62603.62  21000000.0          18858012.0   \n4  62577.18    62600.43   62577.18  21000000.0          18858012.0   \n\n   total_supply  quote_USD_price  quote_volume_24h  volume_change_24h  \\\n0    18858012.0     62556.005047      4.304916e+10             6.0514   \n1    18858012.0     62530.948307      4.305221e+10             6.0179   \n2    18858012.0     62551.924819      4.304739e+10             6.0643   \n3    18858012.0     62591.537709      4.311295e+10             6.1673   \n4    18858012.0     62584.316178      4.310036e+10             6.1706   \n\n   percent_change_1h  percent_change_24h  percent_change_7d  \\\n0          -0.314446            2.307206           2.108769   \n1          -0.422853            2.137546           2.146984   \n2          -0.365020            2.383982           2.150485   \n3          -0.311393            2.375399           2.464668   \n4          -0.379612            2.422122           2.443523   \n\n   percent_change_30d  percent_change_60d  percent_change_90d    market_cap  \\\n0           26.873643           29.933036           49.972913  1.179682e+12   \n1           26.873643           29.917416           49.972913  1.179209e+12   \n2           26.873643           29.997052           49.972913  1.179605e+12   \n3           26.873643           30.044297           49.972913  1.180352e+12   \n4           26.873643           30.074340           49.972913  1.180216e+12   \n\n   market_cap_dominance  fully_diluted_market_cap  reddit_compound_polarity  \n0               43.4826              1.313676e+12                  0.000834  \n1               43.4826              1.313150e+12                  0.000834  \n2               43.4826              1.313590e+12                  0.000834  \n3               43.4826              1.314422e+12                  0.000834  \n4               43.4826              1.314271e+12                  0.000834  ",
      "text/html": "<div>\n<style scoped>\n    .dataframe tbody tr th:only-of-type {\n        vertical-align: middle;\n    }\n\n    .dataframe tbody tr th {\n        vertical-align: top;\n    }\n\n    .dataframe thead th {\n        text-align: right;\n    }\n</style>\n<table border=\"1\" class=\"dataframe\">\n  <thead>\n    <tr style=\"text-align: right;\">\n      <th></th>\n      <th>_id</th>\n      <th>high_24h</th>\n      <th>last_24h</th>\n      <th>unix_timestamp</th>\n      <th>bid_24h</th>\n      <th>vwap_24h</th>\n      <th>volume_24h</th>\n      <th>low_24h</th>\n      <th>ask_24h</th>\n      <th>open_24h</th>\n      <th>high_1min</th>\n      <th>volume_1min</th>\n      <th>low_1min</th>\n      <th>close_1min</th>\n      <th>open_1min</th>\n      <th>max_supply</th>\n      <th>circulating_supply</th>\n      <th>total_supply</th>\n      <th>quote_USD_price</th>\n      <th>quote_volume_24h</th>\n      <th>volume_change_24h</th>\n      <th>percent_change_1h</th>\n      <th>percent_change_24h</th>\n      <th>percent_change_7d</th>\n      <th>percent_change_30d</th>\n      <th>percent_change_60d</th>\n      <th>percent_change_90d</th>\n      <th>market_cap</th>\n      <th>market_cap_dominance</th>\n      <th>fully_diluted_market_cap</th>\n      <th>reddit_compound_polarity</th>\n    </tr>\n  </thead>\n  <tbody>\n    <tr>\n      <th>0</th>\n      <td>627127fabbd592fa2c7f25a9</td>\n      <td>62971.54</td>\n      <td>62561.13</td>\n      <td>1635527368</td>\n      <td>62559.74</td>\n      <td>60908.08</td>\n      <td>5113.537402</td>\n      <td>56425.0</td>\n      <td>62561.13</td>\n      <td>60608.95</td>\n      <td>62565.90</td>\n      <td>1.425169</td>\n      <td>62539.20</td>\n      <td>62561.86</td>\n      <td>62545.45</td>\n      <td>21000000.0</td>\n      <td>18858012.0</td>\n      <td>18858012.0</td>\n      <td>62556.005047</td>\n      <td>4.304916e+10</td>\n      <td>6.0514</td>\n      <td>-0.314446</td>\n      <td>2.307206</td>\n      <td>2.108769</td>\n      <td>26.873643</td>\n      <td>29.933036</td>\n      <td>49.972913</td>\n      <td>1.179682e+12</td>\n      <td>43.4826</td>\n      <td>1.313676e+12</td>\n      <td>0.000834</td>\n    </tr>\n    <tr>\n      <th>1</th>\n      <td>627127fabbd592fa2c7f25aa</td>\n      <td>62971.54</td>\n      <td>62580.05</td>\n      <td>1635527309</td>\n      <td>62571.40</td>\n      <td>60907.24</td>\n      <td>5111.938615</td>\n      <td>56425.0</td>\n      <td>62580.05</td>\n      <td>60608.95</td>\n      <td>62580.05</td>\n      <td>0.046548</td>\n      <td>62555.88</td>\n      <td>62577.47</td>\n      <td>62555.88</td>\n      <td>21000000.0</td>\n      <td>18858012.0</td>\n      <td>18858012.0</td>\n      <td>62530.948307</td>\n      <td>4.305221e+10</td>\n      <td>6.0179</td>\n      <td>-0.422853</td>\n      <td>2.137546</td>\n      <td>2.146984</td>\n      <td>26.873643</td>\n      <td>29.917416</td>\n      <td>49.972913</td>\n      <td>1.179209e+12</td>\n      <td>43.4826</td>\n      <td>1.313150e+12</td>\n      <td>0.000834</td>\n    </tr>\n    <tr>\n      <th>2</th>\n      <td>627127fabbd592fa2c7f25ab</td>\n      <td>62971.54</td>\n      <td>62591.17</td>\n      <td>1635527428</td>\n      <td>62582.19</td>\n      <td>60908.89</td>\n      <td>5115.569587</td>\n      <td>56425.0</td>\n      <td>62596.03</td>\n      <td>60608.95</td>\n      <td>62597.65</td>\n      <td>2.112533</td>\n      <td>62555.02</td>\n      <td>62597.64</td>\n      <td>62560.95</td>\n      <td>21000000.0</td>\n      <td>18858012.0</td>\n      <td>18858012.0</td>\n      <td>62551.924819</td>\n      <td>4.304739e+10</td>\n      <td>6.0643</td>\n      <td>-0.365020</td>\n      <td>2.383982</td>\n      <td>2.150485</td>\n      <td>26.873643</td>\n      <td>29.997052</td>\n      <td>49.972913</td>\n      <td>1.179605e+12</td>\n      <td>43.4826</td>\n      <td>1.313590e+12</td>\n      <td>0.000834</td>\n    </tr>\n    <tr>\n      <th>3</th>\n      <td>627127fabbd592fa2c7f25ac</td>\n      <td>62971.54</td>\n      <td>62590.43</td>\n      <td>1635527672</td>\n      <td>62572.06</td>\n      <td>60909.91</td>\n      <td>5117.061581</td>\n      <td>56425.0</td>\n      <td>62590.43</td>\n      <td>60608.95</td>\n      <td>62615.00</td>\n      <td>0.596406</td>\n      <td>62590.43</td>\n      <td>62590.43</td>\n      <td>62603.62</td>\n      <td>21000000.0</td>\n      <td>18858012.0</td>\n      <td>18858012.0</td>\n      <td>62591.537709</td>\n      <td>4.311295e+10</td>\n      <td>6.1673</td>\n      <td>-0.311393</td>\n      <td>2.375399</td>\n      <td>2.464668</td>\n      <td>26.873643</td>\n      <td>30.044297</td>\n      <td>49.972913</td>\n      <td>1.180352e+12</td>\n      <td>43.4826</td>\n      <td>1.314422e+12</td>\n      <td>0.000834</td>\n    </tr>\n    <tr>\n      <th>4</th>\n      <td>627127fabbd592fa2c7f25ad</td>\n      <td>62971.54</td>\n      <td>62600.43</td>\n      <td>1635527551</td>\n      <td>62587.09</td>\n      <td>60909.54</td>\n      <td>5117.193435</td>\n      <td>56425.0</td>\n      <td>62606.26</td>\n      <td>60608.95</td>\n      <td>62600.43</td>\n      <td>0.657752</td>\n      <td>62577.18</td>\n      <td>62600.43</td>\n      <td>62577.18</td>\n      <td>21000000.0</td>\n      <td>18858012.0</td>\n      <td>18858012.0</td>\n      <td>62584.316178</td>\n      <td>4.310036e+10</td>\n      <td>6.1706</td>\n      <td>-0.379612</td>\n      <td>2.422122</td>\n      <td>2.443523</td>\n      <td>26.873643</td>\n      <td>30.074340</td>\n      <td>49.972913</td>\n      <td>1.180216e+12</td>\n      <td>43.4826</td>\n      <td>1.314271e+12</td>\n      <td>0.000834</td>\n    </tr>\n  </tbody>\n</table>\n</div>"
     },
     "execution_count": 2,
     "metadata": {},
     "output_type": "execute_result"
    }
   ],
   "source": [
    "# connecting or switching to the database\n",
    "connection, db = utils.connectMongoDB()\n",
    "\n",
    "# creating or switching to ais_navigation collection\n",
    "collection = db.flatten_crypto_data\n",
    "\n",
    "# Read preprocessed data from mongo\n",
    "res = collection.find()\n",
    "\n",
    "jsonData = list(res)\n",
    "\n",
    "df = pd.DataFrame.from_dict(jsonData)\n",
    "# settings to display all columns\n",
    "pd.set_option(\"display.max_columns\", None)\n",
    "# display the dataframe head\n",
    "df.head(5)"
   ],
   "metadata": {
    "collapsed": false,
    "pycharm": {
     "name": "#%%\n"
    }
   }
  },
  {
   "cell_type": "markdown",
   "source": [
    "### Plot Bitcoin Price from collected data"
   ],
   "metadata": {
    "collapsed": false
   }
  },
  {
   "cell_type": "code",
   "execution_count": 3,
   "outputs": [
    {
     "data": {
      "text/plain": "<Figure size 720x576 with 1 Axes>",
      "image/png": "[encoded data removed]"
     },
     "metadata": {
      "needs_background": "light"
     },
     "output_type": "display_data"
    }
   ],
   "source": [
    "# Increase size of plot in jupyter\n",
    "plt.rcParams[\"figure.figsize\"] = (10,8)\n",
    "plt.plot(df['quote_USD_price'])\n",
    "plt.xlabel(\"Observations\")\n",
    "plt.ylabel(\"Price (USD)\")\n",
    "plt.title(\"Bitcoin price over time\")\n",
    "plt.savefig(\"initial_plot.png\", dpi=250)\n",
    "plt.show()"
   ],
   "metadata": {
    "collapsed": false,
    "pycharm": {
     "name": "#%%\n"
    }
   }
  },
  {
   "cell_type": "markdown",
   "source": [
    "## Clean Data\n",
    "- Drop id column\n",
    "- Create X df with all predictors except our target price.\n",
    "- And Y df with target feature ***quote_USD_price***."
   ],
   "metadata": {
    "collapsed": false
   }
  },
  {
   "cell_type": "code",
   "execution_count": 4,
   "outputs": [
    {
     "data": {
      "text/plain": "((246791, 29), (246791,))"
     },
     "execution_count": 4,
     "metadata": {},
     "output_type": "execute_result"
    }
   ],
   "source": [
    "# drop _id column\n",
    "df.drop(columns=['_id'], inplace=True)\n",
    "# separate data tou X and y\n",
    "X, y = df.drop(columns=['quote_USD_price']), df['quote_USD_price'].values\n",
    "X.shape, y.shape"
   ],
   "metadata": {
    "collapsed": false,
    "pycharm": {
     "name": "#%%\n"
    }
   }
  },
  {
   "cell_type": "markdown",
   "source": [
    "## Standardising Our Features\n",
    "\n",
    "Standardisation helps deep learning model training by ensuring\n",
    "that parameters can exist in the same multi dimensional space\n",
    "\n",
    "- We will use standardisation for our predictor by\n",
    "  removing mean and scaling to unit variance."
   ],
   "metadata": {
    "collapsed": false
   }
  },
  {
   "cell_type": "code",
   "execution_count": 5,
   "outputs": [],
   "source": [
    "# normalize features\n",
    "scaler = MinMaxScaler(feature_range=(0, 1))\n",
    "X_trans = scaler.fit_transform(X)\n",
    "y_trans = scaler.fit_transform(y.reshape(-1, 1))"
   ],
   "metadata": {
    "collapsed": false,
    "pycharm": {
     "name": "#%%\n"
    }
   }
  },
  {
   "cell_type": "markdown",
   "source": [
    "## Split timeSeries\n",
    "This helper function is used in order to split dataset in time series."
   ],
   "metadata": {
    "collapsed": false
   }
  },
  {
   "cell_type": "code",
   "execution_count": 6,
   "outputs": [],
   "source": [
    "# split a multivariate sequence past, future samples (X and y)\n",
    "def split_sequences(input_sequences, output_sequence, n_steps_in, n_steps_out):\n",
    "    X_list, y_list = list(), list() # instantiate X and y\n",
    "    for i in range(len(input_sequences)):\n",
    "        # find the end of the input, output sequence\n",
    "        end_ix = i + n_steps_in\n",
    "        out_end_ix = end_ix + n_steps_out - 1\n",
    "        # check if we are beyond the dataset\n",
    "        if out_end_ix > len(input_sequences): break\n",
    "        # gather input and output of the pattern\n",
    "        seq_x, seq_y = input_sequences[i:end_ix], output_sequence[end_ix-1:out_end_ix, -1]\n",
    "        X_list.append(seq_x), y_list.append(seq_y)\n",
    "    return np.array(X), np.array(y)"
   ],
   "metadata": {
    "collapsed": false,
    "pycharm": {
     "name": "#%%\n"
    }
   }
  },
  {
   "cell_type": "code",
   "execution_count": 12,
   "outputs": [
    {
     "name": "stderr",
     "output_type": "stream",
     "text": [
      "Traceback (most recent call last):\n",
      "  File \"/Applications/PyCharm.app/Contents/plugins/python/helpers-pro/jupyter_debug/pydev_jupyter_utils.py\", line 69, in attach_to_debugger\n",
      "    debugger.prepare_to_run(enable_tracing_from_start=False)\n",
      "TypeError: prepare_to_run() got an unexpected keyword argument 'enable_tracing_from_start'\n",
      "Failed to connect to target debugger.\n"
     ]
    },
    {
     "name": "stdout",
     "output_type": "stream",
     "text": [
      "(246791, 29) (246791,)\n"
     ]
    }
   ],
   "source": [
    "X_series, y_series = split_sequences(X_trans, y_trans, 120, 15)\n",
    "print(X_series.shape, y_series.shape)"
   ],
   "metadata": {
    "collapsed": false,
    "pycharm": {
     "name": "#%%\n"
    }
   }
  },
  {
   "cell_type": "markdown",
   "source": [
    " Check X and y time series:\n",
    " - X should start data from 120th element of all data and contain the previous 119 in its time Series\n",
    " -"
   ],
   "metadata": {
    "collapsed": false
   }
  },
  {
   "cell_type": "code",
   "execution_count": 10,
   "outputs": [
    {
     "data": {
      "text/plain": "array([[6.29715400e+04, 6.25611300e+04, 1.63552737e+09, ...,\n        4.34826000e+01, 1.31367611e+12, 8.33660422e-04],\n       [6.29715400e+04, 6.25800500e+04, 1.63552731e+09, ...,\n        4.34826000e+01, 1.31314991e+12, 8.33660422e-04],\n       [6.29715400e+04, 6.25911700e+04, 1.63552743e+09, ...,\n        4.34826000e+01, 1.31359042e+12, 8.33660422e-04],\n       ...,\n       [3.87869500e+04, 3.83299400e+04, 1.65135241e+09, ...,\n        4.20546000e+01, 8.05082551e+11, 8.00273973e-04],\n       [3.87869500e+04, 3.83447900e+04, 1.65135247e+09, ...,\n        4.20515000e+01, 8.05023374e+11, 8.00273973e-04],\n       [3.87869500e+04, 3.83395400e+04, 1.65135253e+09, ...,\n        4.20584000e+01, 8.05059977e+11, 8.00273973e-04]])"
     },
     "execution_count": 10,
     "metadata": {},
     "output_type": "execute_result"
    }
   ],
   "source": [
    "X_series\n",
    "\n"
   ],
   "metadata": {
    "collapsed": false,
    "pycharm": {
     "name": "#%%\n"
    }
   }
  }
 ],
 "metadata": {
  "kernelspec": {
   "display_name": "Python 3",
   "language": "python",
   "name": "python3"
  },
  "language_info": {
   "codemirror_mode": {
    "name": "ipython",
    "version": 2
   },
   "file_extension": ".py",
   "mimetype": "text/x-python",
   "name": "python",
   "nbconvert_exporter": "python",
   "pygments_lexer": "ipython2",
   "version": "2.7.6"
  }
 },
 "nbformat": 4,
 "nbformat_minor": 0
}