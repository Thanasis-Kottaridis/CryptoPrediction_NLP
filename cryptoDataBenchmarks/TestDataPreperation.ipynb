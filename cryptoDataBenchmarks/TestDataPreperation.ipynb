{
 "cells": [
  {
   "cell_type": "code",
   "execution_count": 1,
   "outputs": [],
   "source": [
    "# Basic Imports\n",
    "import pandas as pd\n",
    "import numpy as np\n",
    "import utils"
   ],
   "metadata": {
    "collapsed": false
   }
  },
  {
   "cell_type": "markdown",
   "source": [
    "# Script Configurations"
   ],
   "metadata": {
    "collapsed": false
   }
  },
  {
   "cell_type": "code",
   "execution_count": 2,
   "metadata": {
    "collapsed": true
   },
   "outputs": [],
   "source": [
    "# Constants\n",
    "DATA_FILE_NAME = '../cryptoDataPrediction/final_crypto_data.csv'\n",
    "\n",
    "SELECTED_MONTHS = [1,2,3]\n",
    "\n",
    "SELECTED_FEATURES = [\n",
    "        'reddit_compound_polarity',\n",
    "        'volume_1min',\n",
    "        'high_1min',\n",
    "        'low_1min',\n",
    "        'open_1min',\n",
    "        'close_1min'\n",
    "    ]"
   ]
  },
  {
   "cell_type": "code",
   "execution_count": 3,
   "outputs": [
    {
     "data": {
      "text/plain": "        Unnamed: 0                       _id  high_24h  last_24h  \\\n0                0  627127fabbd592fa2c7f25a9  62971.54  62561.13   \n1                1  627127fabbd592fa2c7f25aa  62971.54  62580.05   \n2                2  627127fabbd592fa2c7f25ab  62971.54  62591.17   \n3                3  627127fabbd592fa2c7f25ac  62971.54  62590.43   \n4                4  627127fabbd592fa2c7f25ad  62971.54  62600.43   \n...            ...                       ...       ...       ...   \n246786      246786  62712800bbd592fa2c82e9ab  38786.95  38327.07   \n246787      246787  62712800bbd592fa2c82e9ac  38786.95  38332.23   \n246788      246788  62712800bbd592fa2c82e9ad  38786.95  38329.94   \n246789      246789  62712800bbd592fa2c82e9ae  38786.95  38344.79   \n246790      246790  62712800bbd592fa2c82e9af  38786.95  38339.54   \n\n        unix_timestamp   bid_24h  vwap_24h   volume_24h  low_24h   ask_24h  \\\n0           1635527368  62559.74  60908.08  5113.537402  56425.0  62561.13   \n1           1635527309  62571.40  60907.24  5111.938615  56425.0  62580.05   \n2           1635527428  62582.19  60908.89  5115.569587  56425.0  62596.03   \n3           1635527672  62572.06  60909.91  5117.061581  56425.0  62590.43   \n4           1635527551  62587.09  60909.54  5117.193435  56425.0  62606.26   \n...                ...       ...       ...          ...      ...       ...   \n246786      1651352348  38304.93  38539.95   566.041421  38160.4  38326.82   \n246787      1651352290  38314.66  38539.96   566.041421  38160.4  38335.17   \n246788      1651352410  38317.93  38539.93   566.041421  38160.4  38330.19   \n246789      1651352469  38321.67  38539.90   566.041421  38160.4  38344.79   \n246790      1651352531  38323.02  38539.82   566.041421  38160.4  38343.62   \n\n        ...  percent_change_1h  percent_change_24h  percent_change_7d  \\\n0       ...          -0.314446            2.307206           2.108769   \n1       ...          -0.422853            2.137546           2.146984   \n2       ...          -0.365020            2.383982           2.150485   \n3       ...          -0.311393            2.375399           2.464668   \n4       ...          -0.379612            2.422122           2.443523   \n...     ...                ...                 ...                ...   \n246786  ...          -0.363037           -0.606400          -3.693057   \n246787  ...          -0.344114           -0.592877          -3.713096   \n246788  ...          -0.345789           -0.598362          -3.683293   \n246789  ...          -0.354289           -0.602308          -3.686438   \n246790  ...          -0.314421           -0.606770          -3.716787   \n\n        percent_change_30d  percent_change_60d  percent_change_90d  \\\n0                26.873643           29.933036           49.972913   \n1                26.873643           29.917416           49.972913   \n2                26.873643           29.997052           49.972913   \n3                26.873643           30.044297           49.972913   \n4                26.873643           30.074340           49.972913   \n...                    ...                 ...                 ...   \n246786          -16.314320          -12.909292            1.689268   \n246787          -16.308426          -12.839252            1.692403   \n246788          -16.296175          -12.917047            1.698228   \n246789          -16.303936          -12.928782            1.698071   \n246790          -16.290493          -12.957388            1.713588   \n\n          market_cap  market_cap_dominance  fully_diluted_market_cap  \\\n0       1.179682e+12               43.4826              1.313676e+12   \n1       1.179209e+12               43.4826              1.313150e+12   \n2       1.179605e+12               43.4826              1.313590e+12   \n3       1.180352e+12               43.4826              1.314422e+12   \n4       1.180216e+12               43.4826              1.314271e+12   \n...              ...                   ...                       ...   \n246786  7.293839e+11               42.0516              8.050246e+11   \n246787  7.293371e+11               42.0489              8.049729e+11   \n246788  7.294364e+11               42.0546              8.050826e+11   \n246789  7.293828e+11               42.0515              8.050234e+11   \n246790  7.294160e+11               42.0584              8.050600e+11   \n\n        reddit_compound_polarity  \n0                       0.000834  \n1                       0.000834  \n2                       0.000834  \n3                       0.000834  \n4                       0.000834  \n...                          ...  \n246786                  0.000800  \n246787                  0.000800  \n246788                  0.000800  \n246789                  0.000800  \n246790                  0.000800  \n\n[246791 rows x 32 columns]",
      "text/html": "<div>\n<style scoped>\n    .dataframe tbody tr th:only-of-type {\n        vertical-align: middle;\n    }\n\n    .dataframe tbody tr th {\n        vertical-align: top;\n    }\n\n    .dataframe thead th {\n        text-align: right;\n    }\n</style>\n<table border=\"1\" class=\"dataframe\">\n  <thead>\n    <tr style=\"text-align: right;\">\n      <th></th>\n      <th>Unnamed: 0</th>\n      <th>_id</th>\n      <th>high_24h</th>\n      <th>last_24h</th>\n      <th>unix_timestamp</th>\n      <th>bid_24h</th>\n      <th>vwap_24h</th>\n      <th>volume_24h</th>\n      <th>low_24h</th>\n      <th>ask_24h</th>\n      <th>...</th>\n      <th>percent_change_1h</th>\n      <th>percent_change_24h</th>\n      <th>percent_change_7d</th>\n      <th>percent_change_30d</th>\n      <th>percent_change_60d</th>\n      <th>percent_change_90d</th>\n      <th>market_cap</th>\n      <th>market_cap_dominance</th>\n      <th>fully_diluted_market_cap</th>\n      <th>reddit_compound_polarity</th>\n    </tr>\n  </thead>\n  <tbody>\n    <tr>\n      <th>0</th>\n      <td>0</td>\n      <td>627127fabbd592fa2c7f25a9</td>\n      <td>62971.54</td>\n      <td>62561.13</td>\n      <td>1635527368</td>\n      <td>62559.74</td>\n      <td>60908.08</td>\n      <td>5113.537402</td>\n      <td>56425.0</td>\n      <td>62561.13</td>\n      <td>...</td>\n      <td>-0.314446</td>\n      <td>2.307206</td>\n      <td>2.108769</td>\n      <td>26.873643</td>\n      <td>29.933036</td>\n      <td>49.972913</td>\n      <td>1.179682e+12</td>\n      <td>43.4826</td>\n      <td>1.313676e+12</td>\n      <td>0.000834</td>\n    </tr>\n    <tr>\n      <th>1</th>\n      <td>1</td>\n      <td>627127fabbd592fa2c7f25aa</td>\n      <td>62971.54</td>\n      <td>62580.05</td>\n      <td>1635527309</td>\n      <td>62571.40</td>\n      <td>60907.24</td>\n      <td>5111.938615</td>\n      <td>56425.0</td>\n      <td>62580.05</td>\n      <td>...</td>\n      <td>-0.422853</td>\n      <td>2.137546</td>\n      <td>2.146984</td>\n      <td>26.873643</td>\n      <td>29.917416</td>\n      <td>49.972913</td>\n      <td>1.179209e+12</td>\n      <td>43.4826</td>\n      <td>1.313150e+12</td>\n      <td>0.000834</td>\n    </tr>\n    <tr>\n      <th>2</th>\n      <td>2</td>\n      <td>627127fabbd592fa2c7f25ab</td>\n      <td>62971.54</td>\n      <td>62591.17</td>\n      <td>1635527428</td>\n      <td>62582.19</td>\n      <td>60908.89</td>\n      <td>5115.569587</td>\n      <td>56425.0</td>\n      <td>62596.03</td>\n      <td>...</td>\n      <td>-0.365020</td>\n      <td>2.383982</td>\n      <td>2.150485</td>\n      <td>26.873643</td>\n      <td>29.997052</td>\n      <td>49.972913</td>\n      <td>1.179605e+12</td>\n      <td>43.4826</td>\n      <td>1.313590e+12</td>\n      <td>0.000834</td>\n    </tr>\n    <tr>\n      <th>3</th>\n      <td>3</td>\n      <td>627127fabbd592fa2c7f25ac</td>\n      <td>62971.54</td>\n      <td>62590.43</td>\n      <td>1635527672</td>\n      <td>62572.06</td>\n      <td>60909.91</td>\n      <td>5117.061581</td>\n      <td>56425.0</td>\n      <td>62590.43</td>\n      <td>...</td>\n      <td>-0.311393</td>\n      <td>2.375399</td>\n      <td>2.464668</td>\n      <td>26.873643</td>\n      <td>30.044297</td>\n      <td>49.972913</td>\n      <td>1.180352e+12</td>\n      <td>43.4826</td>\n      <td>1.314422e+12</td>\n      <td>0.000834</td>\n    </tr>\n    <tr>\n      <th>4</th>\n      <td>4</td>\n      <td>627127fabbd592fa2c7f25ad</td>\n      <td>62971.54</td>\n      <td>62600.43</td>\n      <td>1635527551</td>\n      <td>62587.09</td>\n      <td>60909.54</td>\n      <td>5117.193435</td>\n      <td>56425.0</td>\n      <td>62606.26</td>\n      <td>...</td>\n      <td>-0.379612</td>\n      <td>2.422122</td>\n      <td>2.443523</td>\n      <td>26.873643</td>\n      <td>30.074340</td>\n      <td>49.972913</td>\n      <td>1.180216e+12</td>\n      <td>43.4826</td>\n      <td>1.314271e+12</td>\n      <td>0.000834</td>\n    </tr>\n    <tr>\n      <th>...</th>\n      <td>...</td>\n      <td>...</td>\n      <td>...</td>\n      <td>...</td>\n      <td>...</td>\n      <td>...</td>\n      <td>...</td>\n      <td>...</td>\n      <td>...</td>\n      <td>...</td>\n      <td>...</td>\n      <td>...</td>\n      <td>...</td>\n      <td>...</td>\n      <td>...</td>\n      <td>...</td>\n      <td>...</td>\n      <td>...</td>\n      <td>...</td>\n      <td>...</td>\n      <td>...</td>\n    </tr>\n    <tr>\n      <th>246786</th>\n      <td>246786</td>\n      <td>62712800bbd592fa2c82e9ab</td>\n      <td>38786.95</td>\n      <td>38327.07</td>\n      <td>1651352348</td>\n      <td>38304.93</td>\n      <td>38539.95</td>\n      <td>566.041421</td>\n      <td>38160.4</td>\n      <td>38326.82</td>\n      <td>...</td>\n      <td>-0.363037</td>\n      <td>-0.606400</td>\n      <td>-3.693057</td>\n      <td>-16.314320</td>\n      <td>-12.909292</td>\n      <td>1.689268</td>\n      <td>7.293839e+11</td>\n      <td>42.0516</td>\n      <td>8.050246e+11</td>\n      <td>0.000800</td>\n    </tr>\n    <tr>\n      <th>246787</th>\n      <td>246787</td>\n      <td>62712800bbd592fa2c82e9ac</td>\n      <td>38786.95</td>\n      <td>38332.23</td>\n      <td>1651352290</td>\n      <td>38314.66</td>\n      <td>38539.96</td>\n      <td>566.041421</td>\n      <td>38160.4</td>\n      <td>38335.17</td>\n      <td>...</td>\n      <td>-0.344114</td>\n      <td>-0.592877</td>\n      <td>-3.713096</td>\n      <td>-16.308426</td>\n      <td>-12.839252</td>\n      <td>1.692403</td>\n      <td>7.293371e+11</td>\n      <td>42.0489</td>\n      <td>8.049729e+11</td>\n      <td>0.000800</td>\n    </tr>\n    <tr>\n      <th>246788</th>\n      <td>246788</td>\n      <td>62712800bbd592fa2c82e9ad</td>\n      <td>38786.95</td>\n      <td>38329.94</td>\n      <td>1651352410</td>\n      <td>38317.93</td>\n      <td>38539.93</td>\n      <td>566.041421</td>\n      <td>38160.4</td>\n      <td>38330.19</td>\n      <td>...</td>\n      <td>-0.345789</td>\n      <td>-0.598362</td>\n      <td>-3.683293</td>\n      <td>-16.296175</td>\n      <td>-12.917047</td>\n      <td>1.698228</td>\n      <td>7.294364e+11</td>\n      <td>42.0546</td>\n      <td>8.050826e+11</td>\n      <td>0.000800</td>\n    </tr>\n    <tr>\n      <th>246789</th>\n      <td>246789</td>\n      <td>62712800bbd592fa2c82e9ae</td>\n      <td>38786.95</td>\n      <td>38344.79</td>\n      <td>1651352469</td>\n      <td>38321.67</td>\n      <td>38539.90</td>\n      <td>566.041421</td>\n      <td>38160.4</td>\n      <td>38344.79</td>\n      <td>...</td>\n      <td>-0.354289</td>\n      <td>-0.602308</td>\n      <td>-3.686438</td>\n      <td>-16.303936</td>\n      <td>-12.928782</td>\n      <td>1.698071</td>\n      <td>7.293828e+11</td>\n      <td>42.0515</td>\n      <td>8.050234e+11</td>\n      <td>0.000800</td>\n    </tr>\n    <tr>\n      <th>246790</th>\n      <td>246790</td>\n      <td>62712800bbd592fa2c82e9af</td>\n      <td>38786.95</td>\n      <td>38339.54</td>\n      <td>1651352531</td>\n      <td>38323.02</td>\n      <td>38539.82</td>\n      <td>566.041421</td>\n      <td>38160.4</td>\n      <td>38343.62</td>\n      <td>...</td>\n      <td>-0.314421</td>\n      <td>-0.606770</td>\n      <td>-3.716787</td>\n      <td>-16.290493</td>\n      <td>-12.957388</td>\n      <td>1.713588</td>\n      <td>7.294160e+11</td>\n      <td>42.0584</td>\n      <td>8.050600e+11</td>\n      <td>0.000800</td>\n    </tr>\n  </tbody>\n</table>\n<p>246791 rows × 32 columns</p>\n</div>"
     },
     "execution_count": 3,
     "metadata": {},
     "output_type": "execute_result"
    }
   ],
   "source": [
    "df = pd.read_csv(DATA_FILE_NAME)\n",
    "df"
   ],
   "metadata": {
    "collapsed": false
   }
  },
  {
   "cell_type": "code",
   "execution_count": 4,
   "outputs": [
    {
     "data": {
      "text/plain": "                     Unnamed: 0                       _id  high_24h  last_24h  \\\ndatetime                                                                        \n2021-10-29 17:09:28           0  627127fabbd592fa2c7f25a9  62971.54  62561.13   \n2021-10-29 17:08:29           1  627127fabbd592fa2c7f25aa  62971.54  62580.05   \n2021-10-29 17:10:28           2  627127fabbd592fa2c7f25ab  62971.54  62591.17   \n2021-10-29 17:14:32           3  627127fabbd592fa2c7f25ac  62971.54  62590.43   \n2021-10-29 17:12:31           4  627127fabbd592fa2c7f25ad  62971.54  62600.43   \n...                         ...                       ...       ...       ...   \n2022-04-30 20:59:08      246786  62712800bbd592fa2c82e9ab  38786.95  38327.07   \n2022-04-30 20:58:10      246787  62712800bbd592fa2c82e9ac  38786.95  38332.23   \n2022-04-30 21:00:10      246788  62712800bbd592fa2c82e9ad  38786.95  38329.94   \n2022-04-30 21:01:09      246789  62712800bbd592fa2c82e9ae  38786.95  38344.79   \n2022-04-30 21:02:11      246790  62712800bbd592fa2c82e9af  38786.95  38339.54   \n\n                      bid_24h  vwap_24h   volume_24h  low_24h   ask_24h  \\\ndatetime                                                                  \n2021-10-29 17:09:28  62559.74  60908.08  5113.537402  56425.0  62561.13   \n2021-10-29 17:08:29  62571.40  60907.24  5111.938615  56425.0  62580.05   \n2021-10-29 17:10:28  62582.19  60908.89  5115.569587  56425.0  62596.03   \n2021-10-29 17:14:32  62572.06  60909.91  5117.061581  56425.0  62590.43   \n2021-10-29 17:12:31  62587.09  60909.54  5117.193435  56425.0  62606.26   \n...                       ...       ...          ...      ...       ...   \n2022-04-30 20:59:08  38304.93  38539.95   566.041421  38160.4  38326.82   \n2022-04-30 20:58:10  38314.66  38539.96   566.041421  38160.4  38335.17   \n2022-04-30 21:00:10  38317.93  38539.93   566.041421  38160.4  38330.19   \n2022-04-30 21:01:09  38321.67  38539.90   566.041421  38160.4  38344.79   \n2022-04-30 21:02:11  38323.02  38539.82   566.041421  38160.4  38343.62   \n\n                     open_24h  ...  percent_change_1h  percent_change_24h  \\\ndatetime                       ...                                          \n2021-10-29 17:09:28  60608.95  ...          -0.314446            2.307206   \n2021-10-29 17:08:29  60608.95  ...          -0.422853            2.137546   \n2021-10-29 17:10:28  60608.95  ...          -0.365020            2.383982   \n2021-10-29 17:14:32  60608.95  ...          -0.311393            2.375399   \n2021-10-29 17:12:31  60608.95  ...          -0.379612            2.422122   \n...                       ...  ...                ...                 ...   \n2022-04-30 20:59:08  38599.30  ...          -0.363037           -0.606400   \n2022-04-30 20:58:10  38599.30  ...          -0.344114           -0.592877   \n2022-04-30 21:00:10  38599.30  ...          -0.345789           -0.598362   \n2022-04-30 21:01:09  38599.30  ...          -0.354289           -0.602308   \n2022-04-30 21:02:11  38599.30  ...          -0.314421           -0.606770   \n\n                     percent_change_7d  percent_change_30d  \\\ndatetime                                                     \n2021-10-29 17:09:28           2.108769           26.873643   \n2021-10-29 17:08:29           2.146984           26.873643   \n2021-10-29 17:10:28           2.150485           26.873643   \n2021-10-29 17:14:32           2.464668           26.873643   \n2021-10-29 17:12:31           2.443523           26.873643   \n...                                ...                 ...   \n2022-04-30 20:59:08          -3.693057          -16.314320   \n2022-04-30 20:58:10          -3.713096          -16.308426   \n2022-04-30 21:00:10          -3.683293          -16.296175   \n2022-04-30 21:01:09          -3.686438          -16.303936   \n2022-04-30 21:02:11          -3.716787          -16.290493   \n\n                     percent_change_60d  percent_change_90d    market_cap  \\\ndatetime                                                                    \n2021-10-29 17:09:28           29.933036           49.972913  1.179682e+12   \n2021-10-29 17:08:29           29.917416           49.972913  1.179209e+12   \n2021-10-29 17:10:28           29.997052           49.972913  1.179605e+12   \n2021-10-29 17:14:32           30.044297           49.972913  1.180352e+12   \n2021-10-29 17:12:31           30.074340           49.972913  1.180216e+12   \n...                                 ...                 ...           ...   \n2022-04-30 20:59:08          -12.909292            1.689268  7.293839e+11   \n2022-04-30 20:58:10          -12.839252            1.692403  7.293371e+11   \n2022-04-30 21:00:10          -12.917047            1.698228  7.294364e+11   \n2022-04-30 21:01:09          -12.928782            1.698071  7.293828e+11   \n2022-04-30 21:02:11          -12.957388            1.713588  7.294160e+11   \n\n                     market_cap_dominance  fully_diluted_market_cap  \\\ndatetime                                                              \n2021-10-29 17:09:28               43.4826              1.313676e+12   \n2021-10-29 17:08:29               43.4826              1.313150e+12   \n2021-10-29 17:10:28               43.4826              1.313590e+12   \n2021-10-29 17:14:32               43.4826              1.314422e+12   \n2021-10-29 17:12:31               43.4826              1.314271e+12   \n...                                   ...                       ...   \n2022-04-30 20:59:08               42.0516              8.050246e+11   \n2022-04-30 20:58:10               42.0489              8.049729e+11   \n2022-04-30 21:00:10               42.0546              8.050826e+11   \n2022-04-30 21:01:09               42.0515              8.050234e+11   \n2022-04-30 21:02:11               42.0584              8.050600e+11   \n\n                     reddit_compound_polarity  \ndatetime                                       \n2021-10-29 17:09:28                  0.000834  \n2021-10-29 17:08:29                  0.000834  \n2021-10-29 17:10:28                  0.000834  \n2021-10-29 17:14:32                  0.000834  \n2021-10-29 17:12:31                  0.000834  \n...                                       ...  \n2022-04-30 20:59:08                  0.000800  \n2022-04-30 20:58:10                  0.000800  \n2022-04-30 21:00:10                  0.000800  \n2022-04-30 21:01:09                  0.000800  \n2022-04-30 21:02:11                  0.000800  \n\n[246791 rows x 31 columns]",
      "text/html": "<div>\n<style scoped>\n    .dataframe tbody tr th:only-of-type {\n        vertical-align: middle;\n    }\n\n    .dataframe tbody tr th {\n        vertical-align: top;\n    }\n\n    .dataframe thead th {\n        text-align: right;\n    }\n</style>\n<table border=\"1\" class=\"dataframe\">\n  <thead>\n    <tr style=\"text-align: right;\">\n      <th></th>\n      <th>Unnamed: 0</th>\n      <th>_id</th>\n      <th>high_24h</th>\n      <th>last_24h</th>\n      <th>bid_24h</th>\n      <th>vwap_24h</th>\n      <th>volume_24h</th>\n      <th>low_24h</th>\n      <th>ask_24h</th>\n      <th>open_24h</th>\n      <th>...</th>\n      <th>percent_change_1h</th>\n      <th>percent_change_24h</th>\n      <th>percent_change_7d</th>\n      <th>percent_change_30d</th>\n      <th>percent_change_60d</th>\n      <th>percent_change_90d</th>\n      <th>market_cap</th>\n      <th>market_cap_dominance</th>\n      <th>fully_diluted_market_cap</th>\n      <th>reddit_compound_polarity</th>\n    </tr>\n    <tr>\n      <th>datetime</th>\n      <th></th>\n      <th></th>\n      <th></th>\n      <th></th>\n      <th></th>\n      <th></th>\n      <th></th>\n      <th></th>\n      <th></th>\n      <th></th>\n      <th></th>\n      <th></th>\n      <th></th>\n      <th></th>\n      <th></th>\n      <th></th>\n      <th></th>\n      <th></th>\n      <th></th>\n      <th></th>\n      <th></th>\n    </tr>\n  </thead>\n  <tbody>\n    <tr>\n      <th>2021-10-29 17:09:28</th>\n      <td>0</td>\n      <td>627127fabbd592fa2c7f25a9</td>\n      <td>62971.54</td>\n      <td>62561.13</td>\n      <td>62559.74</td>\n      <td>60908.08</td>\n      <td>5113.537402</td>\n      <td>56425.0</td>\n      <td>62561.13</td>\n      <td>60608.95</td>\n      <td>...</td>\n      <td>-0.314446</td>\n      <td>2.307206</td>\n      <td>2.108769</td>\n      <td>26.873643</td>\n      <td>29.933036</td>\n      <td>49.972913</td>\n      <td>1.179682e+12</td>\n      <td>43.4826</td>\n      <td>1.313676e+12</td>\n      <td>0.000834</td>\n    </tr>\n    <tr>\n      <th>2021-10-29 17:08:29</th>\n      <td>1</td>\n      <td>627127fabbd592fa2c7f25aa</td>\n      <td>62971.54</td>\n      <td>62580.05</td>\n      <td>62571.40</td>\n      <td>60907.24</td>\n      <td>5111.938615</td>\n      <td>56425.0</td>\n      <td>62580.05</td>\n      <td>60608.95</td>\n      <td>...</td>\n      <td>-0.422853</td>\n      <td>2.137546</td>\n      <td>2.146984</td>\n      <td>26.873643</td>\n      <td>29.917416</td>\n      <td>49.972913</td>\n      <td>1.179209e+12</td>\n      <td>43.4826</td>\n      <td>1.313150e+12</td>\n      <td>0.000834</td>\n    </tr>\n    <tr>\n      <th>2021-10-29 17:10:28</th>\n      <td>2</td>\n      <td>627127fabbd592fa2c7f25ab</td>\n      <td>62971.54</td>\n      <td>62591.17</td>\n      <td>62582.19</td>\n      <td>60908.89</td>\n      <td>5115.569587</td>\n      <td>56425.0</td>\n      <td>62596.03</td>\n      <td>60608.95</td>\n      <td>...</td>\n      <td>-0.365020</td>\n      <td>2.383982</td>\n      <td>2.150485</td>\n      <td>26.873643</td>\n      <td>29.997052</td>\n      <td>49.972913</td>\n      <td>1.179605e+12</td>\n      <td>43.4826</td>\n      <td>1.313590e+12</td>\n      <td>0.000834</td>\n    </tr>\n    <tr>\n      <th>2021-10-29 17:14:32</th>\n      <td>3</td>\n      <td>627127fabbd592fa2c7f25ac</td>\n      <td>62971.54</td>\n      <td>62590.43</td>\n      <td>62572.06</td>\n      <td>60909.91</td>\n      <td>5117.061581</td>\n      <td>56425.0</td>\n      <td>62590.43</td>\n      <td>60608.95</td>\n      <td>...</td>\n      <td>-0.311393</td>\n      <td>2.375399</td>\n      <td>2.464668</td>\n      <td>26.873643</td>\n      <td>30.044297</td>\n      <td>49.972913</td>\n      <td>1.180352e+12</td>\n      <td>43.4826</td>\n      <td>1.314422e+12</td>\n      <td>0.000834</td>\n    </tr>\n    <tr>\n      <th>2021-10-29 17:12:31</th>\n      <td>4</td>\n      <td>627127fabbd592fa2c7f25ad</td>\n      <td>62971.54</td>\n      <td>62600.43</td>\n      <td>62587.09</td>\n      <td>60909.54</td>\n      <td>5117.193435</td>\n      <td>56425.0</td>\n      <td>62606.26</td>\n      <td>60608.95</td>\n      <td>...</td>\n      <td>-0.379612</td>\n      <td>2.422122</td>\n      <td>2.443523</td>\n      <td>26.873643</td>\n      <td>30.074340</td>\n      <td>49.972913</td>\n      <td>1.180216e+12</td>\n      <td>43.4826</td>\n      <td>1.314271e+12</td>\n      <td>0.000834</td>\n    </tr>\n    <tr>\n      <th>...</th>\n      <td>...</td>\n      <td>...</td>\n      <td>...</td>\n      <td>...</td>\n      <td>...</td>\n      <td>...</td>\n      <td>...</td>\n      <td>...</td>\n      <td>...</td>\n      <td>...</td>\n      <td>...</td>\n      <td>...</td>\n      <td>...</td>\n      <td>...</td>\n      <td>...</td>\n      <td>...</td>\n      <td>...</td>\n      <td>...</td>\n      <td>...</td>\n      <td>...</td>\n      <td>...</td>\n    </tr>\n    <tr>\n      <th>2022-04-30 20:59:08</th>\n      <td>246786</td>\n      <td>62712800bbd592fa2c82e9ab</td>\n      <td>38786.95</td>\n      <td>38327.07</td>\n      <td>38304.93</td>\n      <td>38539.95</td>\n      <td>566.041421</td>\n      <td>38160.4</td>\n      <td>38326.82</td>\n      <td>38599.30</td>\n      <td>...</td>\n      <td>-0.363037</td>\n      <td>-0.606400</td>\n      <td>-3.693057</td>\n      <td>-16.314320</td>\n      <td>-12.909292</td>\n      <td>1.689268</td>\n      <td>7.293839e+11</td>\n      <td>42.0516</td>\n      <td>8.050246e+11</td>\n      <td>0.000800</td>\n    </tr>\n    <tr>\n      <th>2022-04-30 20:58:10</th>\n      <td>246787</td>\n      <td>62712800bbd592fa2c82e9ac</td>\n      <td>38786.95</td>\n      <td>38332.23</td>\n      <td>38314.66</td>\n      <td>38539.96</td>\n      <td>566.041421</td>\n      <td>38160.4</td>\n      <td>38335.17</td>\n      <td>38599.30</td>\n      <td>...</td>\n      <td>-0.344114</td>\n      <td>-0.592877</td>\n      <td>-3.713096</td>\n      <td>-16.308426</td>\n      <td>-12.839252</td>\n      <td>1.692403</td>\n      <td>7.293371e+11</td>\n      <td>42.0489</td>\n      <td>8.049729e+11</td>\n      <td>0.000800</td>\n    </tr>\n    <tr>\n      <th>2022-04-30 21:00:10</th>\n      <td>246788</td>\n      <td>62712800bbd592fa2c82e9ad</td>\n      <td>38786.95</td>\n      <td>38329.94</td>\n      <td>38317.93</td>\n      <td>38539.93</td>\n      <td>566.041421</td>\n      <td>38160.4</td>\n      <td>38330.19</td>\n      <td>38599.30</td>\n      <td>...</td>\n      <td>-0.345789</td>\n      <td>-0.598362</td>\n      <td>-3.683293</td>\n      <td>-16.296175</td>\n      <td>-12.917047</td>\n      <td>1.698228</td>\n      <td>7.294364e+11</td>\n      <td>42.0546</td>\n      <td>8.050826e+11</td>\n      <td>0.000800</td>\n    </tr>\n    <tr>\n      <th>2022-04-30 21:01:09</th>\n      <td>246789</td>\n      <td>62712800bbd592fa2c82e9ae</td>\n      <td>38786.95</td>\n      <td>38344.79</td>\n      <td>38321.67</td>\n      <td>38539.90</td>\n      <td>566.041421</td>\n      <td>38160.4</td>\n      <td>38344.79</td>\n      <td>38599.30</td>\n      <td>...</td>\n      <td>-0.354289</td>\n      <td>-0.602308</td>\n      <td>-3.686438</td>\n      <td>-16.303936</td>\n      <td>-12.928782</td>\n      <td>1.698071</td>\n      <td>7.293828e+11</td>\n      <td>42.0515</td>\n      <td>8.050234e+11</td>\n      <td>0.000800</td>\n    </tr>\n    <tr>\n      <th>2022-04-30 21:02:11</th>\n      <td>246790</td>\n      <td>62712800bbd592fa2c82e9af</td>\n      <td>38786.95</td>\n      <td>38339.54</td>\n      <td>38323.02</td>\n      <td>38539.82</td>\n      <td>566.041421</td>\n      <td>38160.4</td>\n      <td>38343.62</td>\n      <td>38599.30</td>\n      <td>...</td>\n      <td>-0.314421</td>\n      <td>-0.606770</td>\n      <td>-3.716787</td>\n      <td>-16.290493</td>\n      <td>-12.957388</td>\n      <td>1.713588</td>\n      <td>7.294160e+11</td>\n      <td>42.0584</td>\n      <td>8.050600e+11</td>\n      <td>0.000800</td>\n    </tr>\n  </tbody>\n</table>\n<p>246791 rows × 31 columns</p>\n</div>"
     },
     "execution_count": 4,
     "metadata": {},
     "output_type": "execute_result"
    }
   ],
   "source": [
    "df = utils.setDateTimeAsIndex(df)\n",
    "df"
   ],
   "metadata": {
    "collapsed": false
   }
  },
  {
   "cell_type": "code",
   "execution_count": 5,
   "outputs": [
    {
     "data": {
      "text/plain": "                     reddit_compound_polarity  volume_1min  high_1min  \\\ndatetime                                                                \n2022-01-01 00:00:07                  0.254985     0.000000   46214.37   \n2022-01-01 00:01:05                  0.254985     0.138346   46218.47   \n2022-01-01 00:02:07                  0.254985     0.085429   46334.68   \n2022-01-01 00:03:06                  0.331480     0.009520   46359.84   \n2022-01-01 00:05:05                  0.359245     0.000000   46289.56   \n...                                       ...          ...        ...   \n2022-03-29 15:03:51                 -0.260219     0.032706   47841.78   \n2022-03-29 15:02:51                 -0.329272     1.175399   47839.85   \n2022-03-29 15:04:51                 -0.260219     0.016080   47842.74   \n2022-03-29 14:54:46                 -0.037502     0.038551   47852.52   \n2022-03-29 14:57:47                 -0.037749     0.025290   47881.91   \n\n                     low_1min  open_1min  close_1min  \ndatetime                                              \n2022-01-01 00:00:07  46214.37   46214.37    46214.37  \n2022-01-01 00:01:05  46199.90   46218.47    46199.90  \n2022-01-01 00:02:07  46310.02   46310.02    46331.18  \n2022-01-01 00:03:06  46359.84   46359.84    46359.84  \n2022-01-01 00:05:05  46289.56   46289.56    46289.56  \n...                       ...        ...         ...  \n2022-03-29 15:03:51  47779.93   47787.41    47841.78  \n2022-03-29 15:02:51  47817.06   47823.15    47817.06  \n2022-03-29 15:04:51  47839.81   47842.74    47839.81  \n2022-03-29 14:54:46  47831.77   47831.77    47852.52  \n2022-03-29 14:57:47  47856.79   47879.44    47858.93  \n\n[123015 rows x 6 columns]",
      "text/html": "<div>\n<style scoped>\n    .dataframe tbody tr th:only-of-type {\n        vertical-align: middle;\n    }\n\n    .dataframe tbody tr th {\n        vertical-align: top;\n    }\n\n    .dataframe thead th {\n        text-align: right;\n    }\n</style>\n<table border=\"1\" class=\"dataframe\">\n  <thead>\n    <tr style=\"text-align: right;\">\n      <th></th>\n      <th>reddit_compound_polarity</th>\n      <th>volume_1min</th>\n      <th>high_1min</th>\n      <th>low_1min</th>\n      <th>open_1min</th>\n      <th>close_1min</th>\n    </tr>\n    <tr>\n      <th>datetime</th>\n      <th></th>\n      <th></th>\n      <th></th>\n      <th></th>\n      <th></th>\n      <th></th>\n    </tr>\n  </thead>\n  <tbody>\n    <tr>\n      <th>2022-01-01 00:00:07</th>\n      <td>0.254985</td>\n      <td>0.000000</td>\n      <td>46214.37</td>\n      <td>46214.37</td>\n      <td>46214.37</td>\n      <td>46214.37</td>\n    </tr>\n    <tr>\n      <th>2022-01-01 00:01:05</th>\n      <td>0.254985</td>\n      <td>0.138346</td>\n      <td>46218.47</td>\n      <td>46199.90</td>\n      <td>46218.47</td>\n      <td>46199.90</td>\n    </tr>\n    <tr>\n      <th>2022-01-01 00:02:07</th>\n      <td>0.254985</td>\n      <td>0.085429</td>\n      <td>46334.68</td>\n      <td>46310.02</td>\n      <td>46310.02</td>\n      <td>46331.18</td>\n    </tr>\n    <tr>\n      <th>2022-01-01 00:03:06</th>\n      <td>0.331480</td>\n      <td>0.009520</td>\n      <td>46359.84</td>\n      <td>46359.84</td>\n      <td>46359.84</td>\n      <td>46359.84</td>\n    </tr>\n    <tr>\n      <th>2022-01-01 00:05:05</th>\n      <td>0.359245</td>\n      <td>0.000000</td>\n      <td>46289.56</td>\n      <td>46289.56</td>\n      <td>46289.56</td>\n      <td>46289.56</td>\n    </tr>\n    <tr>\n      <th>...</th>\n      <td>...</td>\n      <td>...</td>\n      <td>...</td>\n      <td>...</td>\n      <td>...</td>\n      <td>...</td>\n    </tr>\n    <tr>\n      <th>2022-03-29 15:03:51</th>\n      <td>-0.260219</td>\n      <td>0.032706</td>\n      <td>47841.78</td>\n      <td>47779.93</td>\n      <td>47787.41</td>\n      <td>47841.78</td>\n    </tr>\n    <tr>\n      <th>2022-03-29 15:02:51</th>\n      <td>-0.329272</td>\n      <td>1.175399</td>\n      <td>47839.85</td>\n      <td>47817.06</td>\n      <td>47823.15</td>\n      <td>47817.06</td>\n    </tr>\n    <tr>\n      <th>2022-03-29 15:04:51</th>\n      <td>-0.260219</td>\n      <td>0.016080</td>\n      <td>47842.74</td>\n      <td>47839.81</td>\n      <td>47842.74</td>\n      <td>47839.81</td>\n    </tr>\n    <tr>\n      <th>2022-03-29 14:54:46</th>\n      <td>-0.037502</td>\n      <td>0.038551</td>\n      <td>47852.52</td>\n      <td>47831.77</td>\n      <td>47831.77</td>\n      <td>47852.52</td>\n    </tr>\n    <tr>\n      <th>2022-03-29 14:57:47</th>\n      <td>-0.037749</td>\n      <td>0.025290</td>\n      <td>47881.91</td>\n      <td>47856.79</td>\n      <td>47879.44</td>\n      <td>47858.93</td>\n    </tr>\n  </tbody>\n</table>\n<p>123015 rows × 6 columns</p>\n</div>"
     },
     "execution_count": 5,
     "metadata": {},
     "output_type": "execute_result"
    }
   ],
   "source": [
    "df = utils.filterColumns(df, SELECTED_FEATURES)\n",
    "df = utils.filterInMonths(df, SELECTED_MONTHS)\n",
    "df"
   ],
   "metadata": {
    "collapsed": false
   }
  },
  {
   "cell_type": "code",
   "execution_count": 6,
   "outputs": [],
   "source": [
    "# # Convert unix timestamp to date time and set it as df index.\n",
    "# df['unix_timestamp'] = pd.to_datetime(df['unix_timestamp'],unit='s')\n",
    "# df.rename(columns={\"unix_timestamp\": \"datetime\"}, inplace=True)\n",
    "# df.set_index('datetime', inplace=True)\n",
    "# df"
   ],
   "metadata": {
    "collapsed": false
   }
  },
  {
   "cell_type": "markdown",
   "source": [
    "# Keep only necessary Columns"
   ],
   "metadata": {
    "collapsed": false
   }
  },
  {
   "cell_type": "code",
   "execution_count": 7,
   "outputs": [],
   "source": [
    "# df = df.drop(columns=[col for col in df if col not in SELECTED_FEATURES])\n",
    "# df"
   ],
   "metadata": {
    "collapsed": false
   }
  },
  {
   "cell_type": "markdown",
   "source": [
    "# Reindex Columns in proper order."
   ],
   "metadata": {
    "collapsed": false
   }
  },
  {
   "cell_type": "code",
   "execution_count": 8,
   "outputs": [],
   "source": [
    "# df = df.reindex(columns = SELECTED_FEATURES)\n",
    "# df"
   ],
   "metadata": {
    "collapsed": false
   }
  },
  {
   "cell_type": "code",
   "execution_count": 9,
   "outputs": [],
   "source": [
    "# targetIndexes = [i for i in df.index if i.month in SELECTED_MONTHS]\n",
    "# filter_df  = df[df.index.isin(targetIndexes)]\n",
    "# filter_df"
   ],
   "metadata": {
    "collapsed": false
   }
  },
  {
   "cell_type": "code",
   "execution_count": 9,
   "outputs": [],
   "source": [],
   "metadata": {
    "collapsed": false
   }
  }
 ],
 "metadata": {
  "kernelspec": {
   "display_name": "Python 3",
   "language": "python",
   "name": "python3"
  },
  "language_info": {
   "codemirror_mode": {
    "name": "ipython",
    "version": 2
   },
   "file_extension": ".py",
   "mimetype": "text/x-python",
   "name": "python",
   "nbconvert_exporter": "python",
   "pygments_lexer": "ipython2",
   "version": "2.7.6"
  }
 },
 "nbformat": 4,
 "nbformat_minor": 0
}
