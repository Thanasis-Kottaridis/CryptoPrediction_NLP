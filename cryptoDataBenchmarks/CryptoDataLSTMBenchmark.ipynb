{
 "cells": [
  {
   "cell_type": "code",
   "execution_count": 1,
   "metadata": {
    "collapsed": true
   },
   "outputs": [],
   "source": [
    "# Basic Imports\n",
    "import numpy as np\n",
    "import pandas as pd\n",
    "import matplotlib.pyplot as plt\n",
    "from sklearn.preprocessing import  MinMaxScaler\n",
    "\n",
    "# Deep learning import\n",
    "import tensorflow as tf\n",
    "from tensorflow.keras.layers import Dense, LSTM, Dropout, BatchNormalization\n",
    "from tensorflow.keras.models import Sequential\n",
    "\n",
    "# Evaluation Imports\n",
    "from sklearn.metrics import mean_squared_error\n",
    "from math import sqrt"
   ]
  },
  {
   "cell_type": "code",
   "execution_count": 2,
   "outputs": [],
   "source": [
    "# Configurations\n",
    "isDemoMode = True"
   ],
   "metadata": {
    "collapsed": false,
    "pycharm": {
     "name": "#%%\n"
    }
   }
  },
  {
   "cell_type": "markdown",
   "source": [
    "# Define Helper functions\n",
    "- split_sequence: This function is used to split a univariate time series into sequences consist of n steps.\n",
    " Steps are given by user. For example in our case it would be 60 steps (for 60 minutes lag.)"
   ],
   "metadata": {
    "collapsed": false,
    "pycharm": {
     "name": "#%% md\n"
    }
   }
  },
  {
   "cell_type": "code",
   "execution_count": 3,
   "outputs": [],
   "source": [
    "def split_sequence(sequence, n_steps):\n",
    "\tX, y = list(), list()\n",
    "\tfor i in range(len(sequence)):\n",
    "\t\t# find the end of this pattern\n",
    "\t\tend_ix = i + n_steps\n",
    "\t\t# check if we are beyond the sequence\n",
    "\t\tif end_ix > len(sequence)-1:\n",
    "\t\t\tbreak\n",
    "\t\t# gather input and output parts of the pattern\n",
    "\t\tseq_x, seq_y = sequence[i:end_ix], sequence[end_ix]\n",
    "\t\tX.append(seq_x)\n",
    "\t\ty.append(seq_y)\n",
    "\treturn np.array(X), np.array(y)\n",
    "\n",
    "def train_test_valid_split(total_x, total_y, train_size=0.9, valid_size=0.1) :\n",
    "    train_index = int(len(total_x) * train_size)\n",
    "    valid_index = int(len(total_x) * valid_size)\n",
    "\n",
    "    X_train, y_train = total_x[0 :train_index], total_y[0 :train_index]\n",
    "    X_valid, y_valid = total_x[train_index :train_index + valid_index], total_y[train_index :train_index + valid_index]\n",
    "    X_test, y_test = total_x[train_index + valid_index :], total_y[train_index + valid_index :]\n",
    "\n",
    "    print(\"-------- train test valid split --------\")\n",
    "    print(len(X_train)), print(len(y_train))\n",
    "    print(len(X_valid)), print(len(y_valid))\n",
    "    print(len(X_test)), print(len(y_test))\n",
    "    print(\"----------------------------------------\")\n",
    "\n",
    "    return np.array(X_train), \\\n",
    "           np.array(y_train), \\\n",
    "           np.array(X_valid), \\\n",
    "           np.array(y_valid), \\\n",
    "           np.array(X_test), \\\n",
    "           np.array(y_test)\n",
    "\n",
    "def display_training_curves(training, validation, title, subplot=None) :\n",
    "    if subplot is not None:\n",
    "        ax = plt.subplot(subplot)\n",
    "    else:\n",
    "        ax = plt.subplot()\n",
    "    ax.plot(training)\n",
    "    ax.plot(validation)\n",
    "    ax.set_title('model ' + title)\n",
    "    ax.set_ylabel(title)\n",
    "    ax.set_xlabel('epoch')\n",
    "    ax.legend(['training', 'validation'])\n",
    "    plt.show()\n",
    "    return\n"
   ],
   "metadata": {
    "collapsed": false,
    "pycharm": {
     "name": "#%%\n"
    }
   }
  },
  {
   "cell_type": "markdown",
   "source": [
    " ### Update Default number of DF columns"
   ],
   "metadata": {
    "collapsed": false
   }
  },
  {
   "cell_type": "code",
   "execution_count": 4,
   "outputs": [
    {
     "name": "stdout",
     "output_type": "stream",
     "text": [
      "Default number of DF columns displayed 20\n"
     ]
    }
   ],
   "source": [
    "print(f\"Default number of DF columns displayed {pd.get_option('display.max_columns')}\")\n",
    "\n",
    "# settings to display all columns\n",
    "pd.set_option(\"display.max_columns\", None)"
   ],
   "metadata": {
    "collapsed": false,
    "pycharm": {
     "name": "#%%\n"
    }
   }
  },
  {
   "cell_type": "markdown",
   "source": [
    "# Load Test data from CSV"
   ],
   "metadata": {
    "collapsed": false
   }
  },
  {
   "cell_type": "code",
   "execution_count": 5,
   "outputs": [
    {
     "data": {
      "text/plain": "        high_24h  last_24h  unix_timestamp   bid_24h  vwap_24h   volume_24h  \\\n0       62971.54  62561.13      1635527368  62559.74  60908.08  5113.537402   \n1       62971.54  62580.05      1635527309  62571.40  60907.24  5111.938615   \n2       62971.54  62591.17      1635527428  62582.19  60908.89  5115.569587   \n3       62971.54  62590.43      1635527672  62572.06  60909.91  5117.061581   \n4       62971.54  62600.43      1635527551  62587.09  60909.54  5117.193435   \n...          ...       ...             ...       ...       ...          ...   \n246786  38786.95  38327.07      1651352348  38304.93  38539.95   534.789447   \n246787  38786.95  38332.23      1651352290  38314.66  38539.96   535.007039   \n246788  38786.95  38329.94      1651352410  38317.93  38539.93   534.564625   \n246789  38786.95  38344.79      1651352469  38321.67  38539.90   534.297570   \n246790  38786.95  38339.54      1651352531  38323.02  38539.82   534.442102   \n\n        low_24h   ask_24h  open_24h  high_1min  volume_1min  low_1min  \\\n0       56425.0  62561.13  60608.95   62565.90     1.425169  62539.20   \n1       56425.0  62580.05  60608.95   62580.05     0.046548  62555.88   \n2       56425.0  62596.03  60608.95   62597.65     2.112533  62555.02   \n3       56425.0  62590.43  60608.95   62615.00     0.596406  62590.43   \n4       56425.0  62606.26  60608.95   62600.43     0.657752  62577.18   \n...         ...       ...       ...        ...          ...       ...   \n246786  38160.4  38326.82  38599.30   38327.07     0.000650  38327.07   \n246787  38160.4  38335.17  38599.30   38332.23     0.000000  38332.23   \n246788  38160.4  38330.19  38599.30   38317.93     0.007191  38317.93   \n246789  38160.4  38344.79  38599.30   38344.79     0.000000  38344.79   \n246790  38160.4  38343.62  38599.30   38339.54     0.185617  38339.54   \n\n        close_1min  open_1min  max_supply  circulating_supply  total_supply  \\\n0         62561.86   62545.45  21000000.0          18858012.0    18858012.0   \n1         62577.47   62555.88  21000000.0          18858012.0    18858012.0   \n2         62597.64   62560.95  21000000.0          18858012.0    18858012.0   \n3         62590.43   62603.62  21000000.0          18858012.0    18858012.0   \n4         62600.43   62577.18  21000000.0          18858012.0    18858012.0   \n...            ...        ...         ...                 ...           ...   \n246786    38327.07   38327.07  21000000.0          19026825.0    19026825.0   \n246787    38332.23   38332.23  21000000.0          19026825.0    19026825.0   \n246788    38317.93   38317.93  21000000.0          19026825.0    19026825.0   \n246789    38344.79   38344.79  21000000.0          19026825.0    19026825.0   \n246790    38339.54   38339.54  21000000.0          19026825.0    19026825.0   \n\n        quote_USD_price  quote_volume_24h  volume_change_24h  \\\n0          62556.005047      4.304916e+10             6.0514   \n1          62530.948307      4.305221e+10             6.0179   \n2          62551.924819      4.304739e+10             6.0643   \n3          62591.537709      4.311295e+10             6.1673   \n4          62584.316178      4.310036e+10             6.1706   \n...                 ...               ...                ...   \n246786     38334.504957      2.115848e+10           -24.4114   \n246787     38332.043361      2.114067e+10           -24.4769   \n246788     38337.264339      2.115928e+10           -24.4040   \n246789     38334.446382      2.115736e+10           -24.4076   \n246790     38336.189389      2.110991e+10           -24.3650   \n\n        percent_change_1h  percent_change_24h  percent_change_7d  \\\n0               -0.314446            2.307206           2.108769   \n1               -0.422853            2.137546           2.146984   \n2               -0.365020            2.383982           2.150485   \n3               -0.311393            2.375399           2.464668   \n4               -0.379612            2.422122           2.443523   \n...                   ...                 ...                ...   \n246786          -0.363037           -0.606400          -3.693057   \n246787          -0.344114           -0.592877          -3.713096   \n246788          -0.345789           -0.598362          -3.683293   \n246789          -0.354289           -0.602308          -3.686438   \n246790          -0.314421           -0.606770          -3.716787   \n\n        percent_change_30d  percent_change_60d  percent_change_90d  \\\n0                50.683466           29.933036           51.410352   \n1                50.578304           29.917416           51.320919   \n2                50.771799           29.997052           51.453950   \n3                50.828620           30.044297           51.488766   \n4                50.807128           30.074340           51.475109   \n...                    ...                 ...                 ...   \n246786          -16.314320          -12.909292            1.689268   \n246787          -16.308426          -12.839252            1.692403   \n246788          -16.296175          -12.917047            1.698228   \n246789          -16.303936          -12.928782            1.698071   \n246790          -16.290493          -12.957388            1.713588   \n\n          market_cap  market_cap_dominance  fully_diluted_market_cap  \n0       1.179682e+12               44.2449              1.313676e+12  \n1       1.179209e+12               44.2040              1.313150e+12  \n2       1.179605e+12               44.2421              1.313590e+12  \n3       1.180352e+12               44.2517              1.314422e+12  \n4       1.180216e+12               44.2650              1.314271e+12  \n...              ...                   ...                       ...  \n246786  7.293839e+11               42.0516              8.050246e+11  \n246787  7.293371e+11               42.0489              8.049729e+11  \n246788  7.294364e+11               42.0546              8.050826e+11  \n246789  7.293828e+11               42.0515              8.050234e+11  \n246790  7.294160e+11               42.0584              8.050600e+11  \n\n[246791 rows x 29 columns]",
      "text/html": "<div>\n<style scoped>\n    .dataframe tbody tr th:only-of-type {\n        vertical-align: middle;\n    }\n\n    .dataframe tbody tr th {\n        vertical-align: top;\n    }\n\n    .dataframe thead th {\n        text-align: right;\n    }\n</style>\n<table border=\"1\" class=\"dataframe\">\n  <thead>\n    <tr style=\"text-align: right;\">\n      <th></th>\n      <th>high_24h</th>\n      <th>last_24h</th>\n      <th>unix_timestamp</th>\n      <th>bid_24h</th>\n      <th>vwap_24h</th>\n      <th>volume_24h</th>\n      <th>low_24h</th>\n      <th>ask_24h</th>\n      <th>open_24h</th>\n      <th>high_1min</th>\n      <th>volume_1min</th>\n      <th>low_1min</th>\n      <th>close_1min</th>\n      <th>open_1min</th>\n      <th>max_supply</th>\n      <th>circulating_supply</th>\n      <th>total_supply</th>\n      <th>quote_USD_price</th>\n      <th>quote_volume_24h</th>\n      <th>volume_change_24h</th>\n      <th>percent_change_1h</th>\n      <th>percent_change_24h</th>\n      <th>percent_change_7d</th>\n      <th>percent_change_30d</th>\n      <th>percent_change_60d</th>\n      <th>percent_change_90d</th>\n      <th>market_cap</th>\n      <th>market_cap_dominance</th>\n      <th>fully_diluted_market_cap</th>\n    </tr>\n  </thead>\n  <tbody>\n    <tr>\n      <th>0</th>\n      <td>62971.54</td>\n      <td>62561.13</td>\n      <td>1635527368</td>\n      <td>62559.74</td>\n      <td>60908.08</td>\n      <td>5113.537402</td>\n      <td>56425.0</td>\n      <td>62561.13</td>\n      <td>60608.95</td>\n      <td>62565.90</td>\n      <td>1.425169</td>\n      <td>62539.20</td>\n      <td>62561.86</td>\n      <td>62545.45</td>\n      <td>21000000.0</td>\n      <td>18858012.0</td>\n      <td>18858012.0</td>\n      <td>62556.005047</td>\n      <td>4.304916e+10</td>\n      <td>6.0514</td>\n      <td>-0.314446</td>\n      <td>2.307206</td>\n      <td>2.108769</td>\n      <td>50.683466</td>\n      <td>29.933036</td>\n      <td>51.410352</td>\n      <td>1.179682e+12</td>\n      <td>44.2449</td>\n      <td>1.313676e+12</td>\n    </tr>\n    <tr>\n      <th>1</th>\n      <td>62971.54</td>\n      <td>62580.05</td>\n      <td>1635527309</td>\n      <td>62571.40</td>\n      <td>60907.24</td>\n      <td>5111.938615</td>\n      <td>56425.0</td>\n      <td>62580.05</td>\n      <td>60608.95</td>\n      <td>62580.05</td>\n      <td>0.046548</td>\n      <td>62555.88</td>\n      <td>62577.47</td>\n      <td>62555.88</td>\n      <td>21000000.0</td>\n      <td>18858012.0</td>\n      <td>18858012.0</td>\n      <td>62530.948307</td>\n      <td>4.305221e+10</td>\n      <td>6.0179</td>\n      <td>-0.422853</td>\n      <td>2.137546</td>\n      <td>2.146984</td>\n      <td>50.578304</td>\n      <td>29.917416</td>\n      <td>51.320919</td>\n      <td>1.179209e+12</td>\n      <td>44.2040</td>\n      <td>1.313150e+12</td>\n    </tr>\n    <tr>\n      <th>2</th>\n      <td>62971.54</td>\n      <td>62591.17</td>\n      <td>1635527428</td>\n      <td>62582.19</td>\n      <td>60908.89</td>\n      <td>5115.569587</td>\n      <td>56425.0</td>\n      <td>62596.03</td>\n      <td>60608.95</td>\n      <td>62597.65</td>\n      <td>2.112533</td>\n      <td>62555.02</td>\n      <td>62597.64</td>\n      <td>62560.95</td>\n      <td>21000000.0</td>\n      <td>18858012.0</td>\n      <td>18858012.0</td>\n      <td>62551.924819</td>\n      <td>4.304739e+10</td>\n      <td>6.0643</td>\n      <td>-0.365020</td>\n      <td>2.383982</td>\n      <td>2.150485</td>\n      <td>50.771799</td>\n      <td>29.997052</td>\n      <td>51.453950</td>\n      <td>1.179605e+12</td>\n      <td>44.2421</td>\n      <td>1.313590e+12</td>\n    </tr>\n    <tr>\n      <th>3</th>\n      <td>62971.54</td>\n      <td>62590.43</td>\n      <td>1635527672</td>\n      <td>62572.06</td>\n      <td>60909.91</td>\n      <td>5117.061581</td>\n      <td>56425.0</td>\n      <td>62590.43</td>\n      <td>60608.95</td>\n      <td>62615.00</td>\n      <td>0.596406</td>\n      <td>62590.43</td>\n      <td>62590.43</td>\n      <td>62603.62</td>\n      <td>21000000.0</td>\n      <td>18858012.0</td>\n      <td>18858012.0</td>\n      <td>62591.537709</td>\n      <td>4.311295e+10</td>\n      <td>6.1673</td>\n      <td>-0.311393</td>\n      <td>2.375399</td>\n      <td>2.464668</td>\n      <td>50.828620</td>\n      <td>30.044297</td>\n      <td>51.488766</td>\n      <td>1.180352e+12</td>\n      <td>44.2517</td>\n      <td>1.314422e+12</td>\n    </tr>\n    <tr>\n      <th>4</th>\n      <td>62971.54</td>\n      <td>62600.43</td>\n      <td>1635527551</td>\n      <td>62587.09</td>\n      <td>60909.54</td>\n      <td>5117.193435</td>\n      <td>56425.0</td>\n      <td>62606.26</td>\n      <td>60608.95</td>\n      <td>62600.43</td>\n      <td>0.657752</td>\n      <td>62577.18</td>\n      <td>62600.43</td>\n      <td>62577.18</td>\n      <td>21000000.0</td>\n      <td>18858012.0</td>\n      <td>18858012.0</td>\n      <td>62584.316178</td>\n      <td>4.310036e+10</td>\n      <td>6.1706</td>\n      <td>-0.379612</td>\n      <td>2.422122</td>\n      <td>2.443523</td>\n      <td>50.807128</td>\n      <td>30.074340</td>\n      <td>51.475109</td>\n      <td>1.180216e+12</td>\n      <td>44.2650</td>\n      <td>1.314271e+12</td>\n    </tr>\n    <tr>\n      <th>...</th>\n      <td>...</td>\n      <td>...</td>\n      <td>...</td>\n      <td>...</td>\n      <td>...</td>\n      <td>...</td>\n      <td>...</td>\n      <td>...</td>\n      <td>...</td>\n      <td>...</td>\n      <td>...</td>\n      <td>...</td>\n      <td>...</td>\n      <td>...</td>\n      <td>...</td>\n      <td>...</td>\n      <td>...</td>\n      <td>...</td>\n      <td>...</td>\n      <td>...</td>\n      <td>...</td>\n      <td>...</td>\n      <td>...</td>\n      <td>...</td>\n      <td>...</td>\n      <td>...</td>\n      <td>...</td>\n      <td>...</td>\n      <td>...</td>\n    </tr>\n    <tr>\n      <th>246786</th>\n      <td>38786.95</td>\n      <td>38327.07</td>\n      <td>1651352348</td>\n      <td>38304.93</td>\n      <td>38539.95</td>\n      <td>534.789447</td>\n      <td>38160.4</td>\n      <td>38326.82</td>\n      <td>38599.30</td>\n      <td>38327.07</td>\n      <td>0.000650</td>\n      <td>38327.07</td>\n      <td>38327.07</td>\n      <td>38327.07</td>\n      <td>21000000.0</td>\n      <td>19026825.0</td>\n      <td>19026825.0</td>\n      <td>38334.504957</td>\n      <td>2.115848e+10</td>\n      <td>-24.4114</td>\n      <td>-0.363037</td>\n      <td>-0.606400</td>\n      <td>-3.693057</td>\n      <td>-16.314320</td>\n      <td>-12.909292</td>\n      <td>1.689268</td>\n      <td>7.293839e+11</td>\n      <td>42.0516</td>\n      <td>8.050246e+11</td>\n    </tr>\n    <tr>\n      <th>246787</th>\n      <td>38786.95</td>\n      <td>38332.23</td>\n      <td>1651352290</td>\n      <td>38314.66</td>\n      <td>38539.96</td>\n      <td>535.007039</td>\n      <td>38160.4</td>\n      <td>38335.17</td>\n      <td>38599.30</td>\n      <td>38332.23</td>\n      <td>0.000000</td>\n      <td>38332.23</td>\n      <td>38332.23</td>\n      <td>38332.23</td>\n      <td>21000000.0</td>\n      <td>19026825.0</td>\n      <td>19026825.0</td>\n      <td>38332.043361</td>\n      <td>2.114067e+10</td>\n      <td>-24.4769</td>\n      <td>-0.344114</td>\n      <td>-0.592877</td>\n      <td>-3.713096</td>\n      <td>-16.308426</td>\n      <td>-12.839252</td>\n      <td>1.692403</td>\n      <td>7.293371e+11</td>\n      <td>42.0489</td>\n      <td>8.049729e+11</td>\n    </tr>\n    <tr>\n      <th>246788</th>\n      <td>38786.95</td>\n      <td>38329.94</td>\n      <td>1651352410</td>\n      <td>38317.93</td>\n      <td>38539.93</td>\n      <td>534.564625</td>\n      <td>38160.4</td>\n      <td>38330.19</td>\n      <td>38599.30</td>\n      <td>38317.93</td>\n      <td>0.007191</td>\n      <td>38317.93</td>\n      <td>38317.93</td>\n      <td>38317.93</td>\n      <td>21000000.0</td>\n      <td>19026825.0</td>\n      <td>19026825.0</td>\n      <td>38337.264339</td>\n      <td>2.115928e+10</td>\n      <td>-24.4040</td>\n      <td>-0.345789</td>\n      <td>-0.598362</td>\n      <td>-3.683293</td>\n      <td>-16.296175</td>\n      <td>-12.917047</td>\n      <td>1.698228</td>\n      <td>7.294364e+11</td>\n      <td>42.0546</td>\n      <td>8.050826e+11</td>\n    </tr>\n    <tr>\n      <th>246789</th>\n      <td>38786.95</td>\n      <td>38344.79</td>\n      <td>1651352469</td>\n      <td>38321.67</td>\n      <td>38539.90</td>\n      <td>534.297570</td>\n      <td>38160.4</td>\n      <td>38344.79</td>\n      <td>38599.30</td>\n      <td>38344.79</td>\n      <td>0.000000</td>\n      <td>38344.79</td>\n      <td>38344.79</td>\n      <td>38344.79</td>\n      <td>21000000.0</td>\n      <td>19026825.0</td>\n      <td>19026825.0</td>\n      <td>38334.446382</td>\n      <td>2.115736e+10</td>\n      <td>-24.4076</td>\n      <td>-0.354289</td>\n      <td>-0.602308</td>\n      <td>-3.686438</td>\n      <td>-16.303936</td>\n      <td>-12.928782</td>\n      <td>1.698071</td>\n      <td>7.293828e+11</td>\n      <td>42.0515</td>\n      <td>8.050234e+11</td>\n    </tr>\n    <tr>\n      <th>246790</th>\n      <td>38786.95</td>\n      <td>38339.54</td>\n      <td>1651352531</td>\n      <td>38323.02</td>\n      <td>38539.82</td>\n      <td>534.442102</td>\n      <td>38160.4</td>\n      <td>38343.62</td>\n      <td>38599.30</td>\n      <td>38339.54</td>\n      <td>0.185617</td>\n      <td>38339.54</td>\n      <td>38339.54</td>\n      <td>38339.54</td>\n      <td>21000000.0</td>\n      <td>19026825.0</td>\n      <td>19026825.0</td>\n      <td>38336.189389</td>\n      <td>2.110991e+10</td>\n      <td>-24.3650</td>\n      <td>-0.314421</td>\n      <td>-0.606770</td>\n      <td>-3.716787</td>\n      <td>-16.290493</td>\n      <td>-12.957388</td>\n      <td>1.713588</td>\n      <td>7.294160e+11</td>\n      <td>42.0584</td>\n      <td>8.050600e+11</td>\n    </tr>\n  </tbody>\n</table>\n<p>246791 rows × 29 columns</p>\n</div>"
     },
     "execution_count": 5,
     "metadata": {},
     "output_type": "execute_result"
    }
   ],
   "source": [
    "df = pd.read_csv ('../flatten_crypto_data.csv')\n",
    "df"
   ],
   "metadata": {
    "collapsed": false,
    "pycharm": {
     "name": "#%%\n"
    }
   }
  },
  {
   "cell_type": "markdown",
   "source": [
    "# Print the number of Dataset observations.\n"
   ],
   "metadata": {
    "collapsed": false
   }
  },
  {
   "cell_type": "code",
   "execution_count": 6,
   "outputs": [
    {
     "data": {
      "text/plain": "246791"
     },
     "execution_count": 6,
     "metadata": {},
     "output_type": "execute_result"
    }
   ],
   "source": [
    "len(df)"
   ],
   "metadata": {
    "collapsed": false,
    "pycharm": {
     "name": "#%%\n"
    }
   }
  },
  {
   "cell_type": "markdown",
   "source": [
    "# Plot Last minute Close price"
   ],
   "metadata": {
    "collapsed": false
   }
  },
  {
   "cell_type": "code",
   "execution_count": 7,
   "outputs": [
    {
     "data": {
      "text/plain": "<Figure size 640x480 with 1 Axes>",
      "image/png": "[encoded data removed]"
     },
     "metadata": {},
     "output_type": "display_data"
    }
   ],
   "source": [
    "plt.plot(df['unix_timestamp'], df['close_1min'] )\n",
    "plt.show()"
   ],
   "metadata": {
    "collapsed": false,
    "pycharm": {
     "name": "#%%\n"
    }
   }
  },
  {
   "cell_type": "markdown",
   "source": [
    "## Data Preprocessing\n",
    "- Scale Data\n",
    "- Get total_x and total_y based on prediction days\n",
    "- convert them in np arrays\n",
    "- reshape total_x"
   ],
   "metadata": {
    "collapsed": false
   }
  },
  {
   "cell_type": "code",
   "execution_count": 8,
   "outputs": [
    {
     "data": {
      "text/plain": "array([[0.37339388],\n       [0.3830335 ],\n       [0.39306948],\n       ...,\n       [0.10548362],\n       [0.11065168],\n       [0.10964154]])"
     },
     "execution_count": 8,
     "metadata": {},
     "output_type": "execute_result"
    }
   ],
   "source": [
    "test_df = df.tail(round(0.10 * len(df))) if isDemoMode else df\n",
    "\n",
    "# scale data\n",
    "scaler = MinMaxScaler()\n",
    "scaled_data = scaler.fit_transform(test_df[\"close_1min\"].values.reshape(-1,1))\n",
    "scaled_data"
   ],
   "metadata": {
    "collapsed": false,
    "pycharm": {
     "name": "#%%\n"
    }
   }
  },
  {
   "cell_type": "markdown",
   "source": [
    "# Bitcont Price Predicition Preperations\n",
    "\n",
    "Gia na pragmatopoisoume provlepsi tis timis tou bitcoin tha xtrisimopoiisoume tin timi **`close_1min`** prokoimenou na\n",
    "provlepsoume me tin timi me tin opoia tha klisi to BTC sto epomeno lepto.\n",
    "\n",
    "Gia na ekpedeusoume kai na dokimasoume ta montela mas tha xorisoume to dataset mas se 2 yposinola\n",
    "- train_set: to opoio tha periexei to 90% ton paratirisewn\n",
    "- test_set: to opoio tha periexei to 10% ton paratirisewn."
   ],
   "metadata": {
    "collapsed": false
   }
  },
  {
   "cell_type": "code",
   "execution_count": 9,
   "outputs": [
    {
     "name": "stdout",
     "output_type": "stream",
     "text": [
      "Split Dataset X length: 24619\n",
      "Split Dataset y length: 24619\n"
     ]
    }
   ],
   "source": [
    "n_steps = 60\n",
    "X, y = split_sequence(scaled_data, n_steps)\n",
    "\n",
    "print(f\"Split Dataset X length: {len(X)}\")\n",
    "print(f\"Split Dataset y length: {len(y)}\")"
   ],
   "metadata": {
    "collapsed": false,
    "pycharm": {
     "name": "#%%\n"
    }
   }
  },
  {
   "cell_type": "markdown",
   "source": [
    "# Create Vanilla LSTM\n",
    "\n",
    "A Vanilla LSTM is an LSTM model that has a single hidden layer of LSTM units, and an output layer used to make a prediction."
   ],
   "metadata": {
    "collapsed": false,
    "pycharm": {
     "name": "#%% md\n"
    }
   }
  },
  {
   "cell_type": "markdown",
   "source": [
    "- Dilonoume Sto LSTM to shape pou tha exoun ta inputs tou.\n",
    "- Epidi provlepoume univariate series exoume panta 1 xaraktiristiko gia kathe paratirisi. (px lepto sto BTC) ara ***`n_features = 1`***\n",
    "- opote to LSTM input shape prepei na einai (n_steps, n_features) opou n_steps to noumero ton lags pou orisame sto Data preprocessing.\n",
    "- Opote prepei na metasximatisoume ta dedomena mas apo ena 2D array se ena 3D array opou\n",
    "    - 1st D => to plithos ton paratiriseon (gia tis opoies ipaexoun n_step proigoumenes paratirisis)\n",
    "    - 2nd D => oso einai to plithos twn lags pou epileksame (n_step)\n",
    "    - 3ed D => to plithos ton xaraktiristikon (univariate = 1)"
   ],
   "metadata": {
    "collapsed": false,
    "pycharm": {
     "name": "#%% md\n"
    }
   }
  },
  {
   "cell_type": "code",
   "execution_count": 10,
   "outputs": [
    {
     "data": {
      "text/plain": "array([[[0.37339388],\n        [0.3830335 ],\n        [0.39306948],\n        ...,\n        [0.37964135],\n        [0.37448483],\n        [0.37964712]],\n\n       [[0.3830335 ],\n        [0.39306948],\n        [0.37943163],\n        ...,\n        [0.37448483],\n        [0.37964712],\n        [0.37474265]],\n\n       [[0.39306948],\n        [0.37943163],\n        [0.39726012],\n        ...,\n        [0.37964712],\n        [0.37474265],\n        [0.38660073]],\n\n       ...,\n\n       [[0.13210706],\n        [0.1311758 ],\n        [0.13202432],\n        ...,\n        [0.10674773],\n        [0.10724222],\n        [0.10823505]],\n\n       [[0.1311758 ],\n        [0.13202432],\n        [0.13257845],\n        ...,\n        [0.10724222],\n        [0.10823505],\n        [0.10548362]],\n\n       [[0.13202432],\n        [0.13257845],\n        [0.13862198],\n        ...,\n        [0.10823505],\n        [0.10548362],\n        [0.11065168]]])"
     },
     "execution_count": 10,
     "metadata": {},
     "output_type": "execute_result"
    }
   ],
   "source": [
    "# reshape from [samples, timesteps] into [samples, timesteps, features]\n",
    "n_features = 1\n",
    "X = X.reshape((X.shape[0], X.shape[1], n_features))\n",
    "X"
   ],
   "metadata": {
    "collapsed": false,
    "pycharm": {
     "name": "#%%\n"
    }
   }
  },
  {
   "cell_type": "markdown",
   "source": [
    "Train test split"
   ],
   "metadata": {
    "collapsed": false,
    "pycharm": {
     "name": "#%% md\n"
    }
   }
  },
  {
   "cell_type": "code",
   "execution_count": 11,
   "outputs": [
    {
     "name": "stdout",
     "output_type": "stream",
     "text": [
      "-------- train test valid split --------\n",
      "19695\n",
      "19695\n",
      "2461\n",
      "2461\n",
      "2463\n",
      "2463\n",
      "----------------------------------------\n",
      "----------------------------\n",
      "-------- Train X: (19695, 60, 1), Train y: (19695, 1) --------\n",
      "-------- Valid X: (2461, 60, 1), Valid y: (2461, 1) --------\n",
      "----------------------------\n",
      "\n"
     ]
    }
   ],
   "source": [
    "train_X, train_y, valid_X, valid_y, _, _ = train_test_valid_split(\n",
    "        X,\n",
    "        y,\n",
    "        train_size=0.8,\n",
    "        valid_size=0.1\n",
    "    )\n",
    "print(\"----------------------------\")\n",
    "print(f\"-------- Train X: {train_X.shape}, Train y: {train_y.shape} --------\")\n",
    "print(f\"-------- Valid X: {valid_X.shape}, Valid y: {valid_y.shape} --------\")\n",
    "# print(f\"-------- Test X: {test_X.shape}, Test y: {test_y.shape} --------\")\n",
    "print(\"----------------------------\\n\")"
   ],
   "metadata": {
    "collapsed": false,
    "pycharm": {
     "name": "#%%\n"
    }
   }
  },
  {
   "cell_type": "code",
   "execution_count": 12,
   "outputs": [
    {
     "name": "stderr",
     "output_type": "stream",
     "text": [
      "2022-09-11 19:14:51.029470: I tensorflow/core/platform/cpu_feature_guard.cc:142] This TensorFlow binary is optimized with oneAPI Deep Neural Network Library (oneDNN) to use the following CPU instructions in performance-critical operations:  AVX2 FMA\n",
      "To enable them in other operations, rebuild TensorFlow with the appropriate compiler flags.\n"
     ]
    }
   ],
   "source": [
    "# define model\n",
    "model = Sequential()\n",
    "model.add(LSTM(50, activation='relu', input_shape=(n_steps, n_features)))\n",
    "model.add(Dense(1))\n",
    "model.compile(optimizer='adam', loss='mse')"
   ],
   "metadata": {
    "collapsed": false,
    "pycharm": {
     "name": "#%%\n"
    }
   }
  },
  {
   "cell_type": "code",
   "execution_count": 13,
   "outputs": [
    {
     "name": "stdout",
     "output_type": "stream",
     "text": [
      "Epoch 1/200\n",
      "770/770 - 10s - loss: 0.0031 - val_loss: 0.0131\n",
      "Epoch 2/200\n",
      "770/770 - 8s - loss: 0.0012 - val_loss: 0.0073\n",
      "Epoch 3/200\n",
      "770/770 - 8s - loss: 0.0012 - val_loss: 0.0056\n",
      "Epoch 4/200\n",
      "770/770 - 8s - loss: 9.2105e-04 - val_loss: 0.0039\n",
      "Epoch 5/200\n",
      "770/770 - 8s - loss: 6.1620e-04 - val_loss: 0.0025\n",
      "Epoch 6/200\n",
      "770/770 - 8s - loss: 4.0509e-04 - val_loss: 0.0019\n",
      "Epoch 7/200\n",
      "770/770 - 8s - loss: 3.0258e-04 - val_loss: 0.0017\n",
      "Epoch 8/200\n",
      "770/770 - 8s - loss: 2.7699e-04 - val_loss: 0.0019\n",
      "Epoch 9/200\n",
      "770/770 - 8s - loss: 2.8691e-04 - val_loss: 0.0021\n",
      "Epoch 10/200\n",
      "770/770 - 8s - loss: 3.0183e-04 - val_loss: 0.0032\n",
      "Epoch 11/200\n",
      "770/770 - 8s - loss: 3.5399e-04 - val_loss: 0.0020\n",
      "Epoch 12/200\n",
      "770/770 - 8s - loss: 3.3344e-04 - val_loss: 0.0017\n",
      "Epoch 13/200\n",
      "770/770 - 8s - loss: 3.1079e-04 - val_loss: 0.0015\n",
      "Epoch 14/200\n",
      "770/770 - 8s - loss: 3.0905e-04 - val_loss: 0.0014\n",
      "Epoch 15/200\n",
      "770/770 - 8s - loss: 3.1900e-04 - val_loss: 0.0013\n",
      "Epoch 16/200\n",
      "770/770 - 8s - loss: 3.2534e-04 - val_loss: 0.0013\n",
      "Epoch 17/200\n",
      "770/770 - 8s - loss: 3.2754e-04 - val_loss: 0.0012\n",
      "Epoch 18/200\n",
      "770/770 - 8s - loss: 3.4149e-04 - val_loss: 0.0011\n",
      "Epoch 19/200\n",
      "770/770 - 8s - loss: 3.3632e-04 - val_loss: 0.0011\n",
      "Epoch 20/200\n",
      "770/770 - 8s - loss: 3.3811e-04 - val_loss: 9.9871e-04\n",
      "Epoch 21/200\n",
      "770/770 - 8s - loss: 3.2903e-04 - val_loss: 9.5729e-04\n",
      "Epoch 22/200\n",
      "770/770 - 8s - loss: 3.2189e-04 - val_loss: 9.0629e-04\n",
      "Epoch 23/200\n",
      "770/770 - 8s - loss: 3.1309e-04 - val_loss: 9.5911e-04\n",
      "Epoch 24/200\n",
      "770/770 - 8s - loss: 3.0652e-04 - val_loss: 8.4022e-04\n",
      "Epoch 25/200\n",
      "770/770 - 8s - loss: 3.0008e-04 - val_loss: 8.1550e-04\n",
      "Epoch 26/200\n",
      "770/770 - 8s - loss: 2.9439e-04 - val_loss: 7.8911e-04\n",
      "Epoch 27/200\n",
      "770/770 - 8s - loss: 2.8856e-04 - val_loss: 7.6550e-04\n",
      "Epoch 28/200\n",
      "770/770 - 8s - loss: 2.8295e-04 - val_loss: 7.3993e-04\n",
      "Epoch 29/200\n",
      "770/770 - 8s - loss: 2.7794e-04 - val_loss: 7.1906e-04\n",
      "Epoch 30/200\n",
      "770/770 - 8s - loss: 2.7330e-04 - val_loss: 7.0458e-04\n",
      "Epoch 31/200\n",
      "770/770 - 8s - loss: 2.6857e-04 - val_loss: 6.8686e-04\n",
      "Epoch 32/200\n",
      "770/770 - 8s - loss: 2.6412e-04 - val_loss: 6.7167e-04\n",
      "Epoch 33/200\n",
      "770/770 - 8s - loss: 2.6029e-04 - val_loss: 6.5983e-04\n",
      "Epoch 34/200\n",
      "770/770 - 8s - loss: 2.5657e-04 - val_loss: 6.4809e-04\n",
      "Epoch 35/200\n",
      "770/770 - 8s - loss: 2.5325e-04 - val_loss: 6.4001e-04\n",
      "Epoch 36/200\n",
      "770/770 - 8s - loss: 2.5035e-04 - val_loss: 6.3218e-04\n",
      "Epoch 37/200\n",
      "770/770 - 8s - loss: 2.3262e-04 - val_loss: 6.4357e-04\n",
      "Epoch 38/200\n",
      "770/770 - 8s - loss: 2.4321e-04 - val_loss: 6.2737e-04\n",
      "Epoch 39/200\n",
      "770/770 - 8s - loss: 2.4351e-04 - val_loss: 6.2258e-04\n",
      "Epoch 40/200\n",
      "770/770 - 8s - loss: 2.4122e-04 - val_loss: 6.1255e-04\n",
      "Epoch 41/200\n",
      "770/770 - 8s - loss: 2.3791e-04 - val_loss: 6.0310e-04\n",
      "Epoch 42/200\n",
      "770/770 - 8s - loss: 2.3471e-04 - val_loss: 5.9647e-04\n",
      "Epoch 43/200\n",
      "770/770 - 8s - loss: 2.3184e-04 - val_loss: 5.8943e-04\n",
      "Epoch 44/200\n",
      "770/770 - 8s - loss: 2.2920e-04 - val_loss: 5.8579e-04\n",
      "Epoch 45/200\n",
      "770/770 - 8s - loss: 2.2700e-04 - val_loss: 5.8201e-04\n",
      "Epoch 46/200\n",
      "770/770 - 8s - loss: 2.2437e-04 - val_loss: 5.6897e-04\n",
      "Epoch 47/200\n",
      "770/770 - 8s - loss: 2.2245e-04 - val_loss: 5.6829e-04\n",
      "Epoch 48/200\n",
      "770/770 - 8s - loss: 2.2047e-04 - val_loss: 5.6125e-04\n",
      "Epoch 49/200\n",
      "770/770 - 8s - loss: 2.1897e-04 - val_loss: 5.6076e-04\n",
      "Epoch 50/200\n",
      "770/770 - 8s - loss: 2.1695e-04 - val_loss: 5.5044e-04\n",
      "Epoch 51/200\n",
      "770/770 - 8s - loss: 2.1511e-04 - val_loss: 5.4639e-04\n",
      "Epoch 52/200\n",
      "770/770 - 8s - loss: 2.1352e-04 - val_loss: 5.4658e-04\n",
      "Epoch 53/200\n",
      "770/770 - 9s - loss: 2.1199e-04 - val_loss: 5.3652e-04\n",
      "Epoch 54/200\n",
      "770/770 - 9s - loss: 2.0995e-04 - val_loss: 5.3016e-04\n",
      "Epoch 55/200\n",
      "770/770 - 9s - loss: 2.0822e-04 - val_loss: 5.2219e-04\n",
      "Epoch 56/200\n",
      "770/770 - 8s - loss: 2.0675e-04 - val_loss: 5.1718e-04\n",
      "Epoch 57/200\n",
      "770/770 - 8s - loss: 2.0532e-04 - val_loss: 5.1181e-04\n",
      "Epoch 58/200\n",
      "770/770 - 8s - loss: 2.0400e-04 - val_loss: 5.0608e-04\n",
      "Epoch 59/200\n",
      "770/770 - 9s - loss: 2.0269e-04 - val_loss: 5.0092e-04\n",
      "Epoch 60/200\n",
      "770/770 - 9s - loss: 2.0133e-04 - val_loss: 4.9556e-04\n",
      "Epoch 61/200\n",
      "770/770 - 8s - loss: 1.9993e-04 - val_loss: 4.9021e-04\n",
      "Epoch 62/200\n",
      "770/770 - 8s - loss: 1.9888e-04 - val_loss: 4.8444e-04\n",
      "Epoch 63/200\n",
      "770/770 - 9s - loss: 1.9756e-04 - val_loss: 4.7977e-04\n",
      "Epoch 64/200\n",
      "770/770 - 9s - loss: 1.9609e-04 - val_loss: 4.7560e-04\n",
      "Epoch 65/200\n",
      "770/770 - 8s - loss: 1.9470e-04 - val_loss: 4.6799e-04\n",
      "Epoch 66/200\n",
      "770/770 - 8s - loss: 1.9351e-04 - val_loss: 4.6866e-04\n",
      "Epoch 67/200\n",
      "770/770 - 9s - loss: 1.9252e-04 - val_loss: 4.6685e-04\n",
      "Epoch 68/200\n",
      "770/770 - 9s - loss: 1.9142e-04 - val_loss: 4.6329e-04\n",
      "Epoch 69/200\n",
      "770/770 - 9s - loss: 1.9033e-04 - val_loss: 4.6041e-04\n",
      "Epoch 70/200\n",
      "770/770 - 8s - loss: 1.8925e-04 - val_loss: 4.5654e-04\n",
      "Epoch 71/200\n",
      "770/770 - 9s - loss: 1.8824e-04 - val_loss: 4.5328e-04\n",
      "Epoch 72/200\n",
      "770/770 - 9s - loss: 1.8717e-04 - val_loss: 4.5048e-04\n",
      "Epoch 73/200\n",
      "770/770 - 9s - loss: 1.8617e-04 - val_loss: 4.4673e-04\n",
      "Epoch 74/200\n",
      "770/770 - 9s - loss: 1.8514e-04 - val_loss: 4.4309e-04\n",
      "Epoch 75/200\n",
      "770/770 - 9s - loss: 1.8441e-04 - val_loss: 4.4185e-04\n",
      "Epoch 76/200\n",
      "770/770 - 9s - loss: 1.8334e-04 - val_loss: 4.3856e-04\n",
      "Epoch 77/200\n",
      "770/770 - 9s - loss: 1.8217e-04 - val_loss: 4.3539e-04\n",
      "Epoch 78/200\n",
      "770/770 - 9s - loss: 1.8098e-04 - val_loss: 4.3161e-04\n",
      "Epoch 79/200\n",
      "770/770 - 9s - loss: 1.8014e-04 - val_loss: 4.2879e-04\n",
      "Epoch 80/200\n",
      "770/770 - 9s - loss: 1.7937e-04 - val_loss: 4.2899e-04\n",
      "Epoch 81/200\n",
      "770/770 - 9s - loss: 1.7822e-04 - val_loss: 4.2371e-04\n",
      "Epoch 82/200\n",
      "770/770 - 9s - loss: 1.7753e-04 - val_loss: 4.1871e-04\n",
      "Epoch 83/200\n",
      "770/770 - 9s - loss: 1.7689e-04 - val_loss: 4.2311e-04\n",
      "Epoch 84/200\n",
      "770/770 - 9s - loss: 1.7586e-04 - val_loss: 4.1674e-04\n",
      "Epoch 85/200\n",
      "770/770 - 9s - loss: 1.7484e-04 - val_loss: 4.1185e-04\n",
      "Epoch 86/200\n",
      "770/770 - 9s - loss: 1.7406e-04 - val_loss: 4.0864e-04\n",
      "Epoch 87/200\n",
      "770/770 - 8s - loss: 1.7307e-04 - val_loss: 4.0492e-04\n",
      "Epoch 88/200\n",
      "770/770 - 9s - loss: 1.7226e-04 - val_loss: 4.0150e-04\n",
      "Epoch 89/200\n",
      "770/770 - 9s - loss: 1.7160e-04 - val_loss: 3.9893e-04\n",
      "Epoch 90/200\n",
      "770/770 - 9s - loss: 1.7090e-04 - val_loss: 3.9521e-04\n",
      "Epoch 91/200\n",
      "770/770 - 9s - loss: 1.7016e-04 - val_loss: 3.9072e-04\n",
      "Epoch 92/200\n",
      "770/770 - 8s - loss: 1.6941e-04 - val_loss: 3.8631e-04\n",
      "Epoch 93/200\n",
      "770/770 - 9s - loss: 1.6863e-04 - val_loss: 3.8457e-04\n",
      "Epoch 94/200\n",
      "770/770 - 9s - loss: 1.6798e-04 - val_loss: 3.8055e-04\n",
      "Epoch 95/200\n",
      "770/770 - 9s - loss: 1.6736e-04 - val_loss: 3.7934e-04\n",
      "Epoch 96/200\n",
      "770/770 - 9s - loss: 1.6673e-04 - val_loss: 3.7765e-04\n",
      "Epoch 97/200\n",
      "770/770 - 9s - loss: 1.6620e-04 - val_loss: 3.7545e-04\n",
      "Epoch 98/200\n",
      "770/770 - 9s - loss: 1.6558e-04 - val_loss: 3.7372e-04\n",
      "Epoch 99/200\n",
      "770/770 - 9s - loss: 1.6481e-04 - val_loss: 3.7155e-04\n",
      "Epoch 100/200\n",
      "770/770 - 9s - loss: 1.6411e-04 - val_loss: 3.6908e-04\n",
      "Epoch 101/200\n",
      "770/770 - 8s - loss: 1.6352e-04 - val_loss: 3.6722e-04\n",
      "Epoch 102/200\n",
      "770/770 - 9s - loss: 1.6286e-04 - val_loss: 3.6417e-04\n",
      "Epoch 103/200\n",
      "770/770 - 10s - loss: 1.6229e-04 - val_loss: 3.6363e-04\n",
      "Epoch 104/200\n",
      "770/770 - 9s - loss: 1.6172e-04 - val_loss: 3.6138e-04\n",
      "Epoch 105/200\n",
      "770/770 - 9s - loss: 1.6110e-04 - val_loss: 3.5998e-04\n",
      "Epoch 106/200\n",
      "770/770 - 9s - loss: 1.6051e-04 - val_loss: 3.5807e-04\n",
      "Epoch 107/200\n",
      "770/770 - 10s - loss: 1.5984e-04 - val_loss: 3.5638e-04\n",
      "Epoch 108/200\n",
      "770/770 - 10s - loss: 1.5940e-04 - val_loss: 3.5556e-04\n",
      "Epoch 109/200\n",
      "770/770 - 9s - loss: 1.5865e-04 - val_loss: 3.5200e-04\n",
      "Epoch 110/200\n",
      "770/770 - 9s - loss: 1.5803e-04 - val_loss: 3.5067e-04\n",
      "Epoch 111/200\n",
      "770/770 - 9s - loss: 1.5745e-04 - val_loss: 3.4938e-04\n",
      "Epoch 112/200\n",
      "770/770 - 9s - loss: 1.5687e-04 - val_loss: 3.4822e-04\n",
      "Epoch 113/200\n",
      "770/770 - 9s - loss: 1.5631e-04 - val_loss: 3.4495e-04\n",
      "Epoch 114/200\n",
      "770/770 - 9s - loss: 1.5581e-04 - val_loss: 3.4412e-04\n",
      "Epoch 115/200\n",
      "770/770 - 9s - loss: 1.5536e-04 - val_loss: 3.4407e-04\n",
      "Epoch 116/200\n",
      "770/770 - 9s - loss: 1.5487e-04 - val_loss: 3.4406e-04\n",
      "Epoch 117/200\n",
      "770/770 - 10s - loss: 1.5441e-04 - val_loss: 3.4291e-04\n",
      "Epoch 118/200\n",
      "770/770 - 9s - loss: 1.5360e-04 - val_loss: 3.3996e-04\n",
      "Epoch 119/200\n",
      "770/770 - 9s - loss: 1.5317e-04 - val_loss: 3.3757e-04\n",
      "Epoch 120/200\n",
      "770/770 - 9s - loss: 1.5270e-04 - val_loss: 3.3593e-04\n",
      "Epoch 121/200\n",
      "770/770 - 9s - loss: 1.5222e-04 - val_loss: 3.3601e-04\n",
      "Epoch 122/200\n",
      "770/770 - 9s - loss: 1.5155e-04 - val_loss: 3.3491e-04\n",
      "Epoch 123/200\n",
      "770/770 - 9s - loss: 1.5107e-04 - val_loss: 3.3121e-04\n",
      "Epoch 124/200\n",
      "770/770 - 9s - loss: 1.5064e-04 - val_loss: 3.2730e-04\n",
      "Epoch 125/200\n",
      "770/770 - 9s - loss: 1.4997e-04 - val_loss: 3.2925e-04\n",
      "Epoch 126/200\n",
      "770/770 - 10s - loss: 1.4959e-04 - val_loss: 3.2705e-04\n",
      "Epoch 127/200\n",
      "770/770 - 9s - loss: 1.4896e-04 - val_loss: 3.2422e-04\n",
      "Epoch 128/200\n",
      "770/770 - 9s - loss: 1.4841e-04 - val_loss: 3.2290e-04\n",
      "Epoch 129/200\n",
      "770/770 - 9s - loss: 1.4804e-04 - val_loss: 3.2191e-04\n",
      "Epoch 130/200\n",
      "770/770 - 10s - loss: 1.4748e-04 - val_loss: 3.2059e-04\n",
      "Epoch 131/200\n",
      "770/770 - 9s - loss: 1.4691e-04 - val_loss: 3.1921e-04\n",
      "Epoch 132/200\n",
      "770/770 - 9s - loss: 1.4651e-04 - val_loss: 3.1699e-04\n",
      "Epoch 133/200\n",
      "770/770 - 9s - loss: 1.4599e-04 - val_loss: 3.1658e-04\n",
      "Epoch 134/200\n",
      "770/770 - 9s - loss: 1.4565e-04 - val_loss: 3.1351e-04\n",
      "Epoch 135/200\n",
      "770/770 - 10s - loss: 1.4519e-04 - val_loss: 3.1333e-04\n",
      "Epoch 136/200\n",
      "770/770 - 9s - loss: 1.4484e-04 - val_loss: 3.1138e-04\n",
      "Epoch 137/200\n",
      "770/770 - 9s - loss: 1.4447e-04 - val_loss: 3.0808e-04\n",
      "Epoch 138/200\n",
      "770/770 - 9s - loss: 1.4397e-04 - val_loss: 3.0723e-04\n",
      "Epoch 139/200\n",
      "770/770 - 10s - loss: 1.4370e-04 - val_loss: 3.0652e-04\n",
      "Epoch 140/200\n",
      "770/770 - 9s - loss: 1.4331e-04 - val_loss: 3.0521e-04\n",
      "Epoch 141/200\n",
      "770/770 - 9s - loss: 1.4289e-04 - val_loss: 3.0350e-04\n",
      "Epoch 142/200\n",
      "770/770 - 9s - loss: 1.4249e-04 - val_loss: 3.0210e-04\n",
      "Epoch 143/200\n",
      "770/770 - 10s - loss: 1.4212e-04 - val_loss: 3.0120e-04\n",
      "Epoch 144/200\n",
      "770/770 - 9s - loss: 1.4179e-04 - val_loss: 2.9978e-04\n",
      "Epoch 145/200\n",
      "770/770 - 9s - loss: 1.4147e-04 - val_loss: 2.9994e-04\n",
      "Epoch 146/200\n",
      "770/770 - 9s - loss: 1.4110e-04 - val_loss: 2.9454e-04\n",
      "Epoch 147/200\n",
      "770/770 - 10s - loss: 1.4062e-04 - val_loss: 2.9743e-04\n",
      "Epoch 148/200\n",
      "770/770 - 9s - loss: 1.4058e-04 - val_loss: 2.9187e-04\n",
      "Epoch 149/200\n",
      "770/770 - 9s - loss: 1.4000e-04 - val_loss: 2.9219e-04\n",
      "Epoch 150/200\n",
      "770/770 - 9s - loss: 1.3958e-04 - val_loss: 2.9060e-04\n",
      "Epoch 151/200\n",
      "770/770 - 9s - loss: 1.3924e-04 - val_loss: 2.8838e-04\n",
      "Epoch 152/200\n",
      "770/770 - 9s - loss: 1.3886e-04 - val_loss: 2.8773e-04\n",
      "Epoch 153/200\n",
      "770/770 - 9s - loss: 1.3747e-04 - val_loss: 4.7500e-04\n",
      "Epoch 154/200\n",
      "770/770 - 9s - loss: 1.3904e-04 - val_loss: 3.0542e-04\n",
      "Epoch 155/200\n",
      "770/770 - 16s - loss: 1.4308e-04 - val_loss: 2.8604e-04\n",
      "Epoch 156/200\n",
      "770/770 - 13s - loss: 1.3932e-04 - val_loss: 2.7551e-04\n",
      "Epoch 157/200\n",
      "770/770 - 9s - loss: 1.3694e-04 - val_loss: 2.7329e-04\n",
      "Epoch 158/200\n",
      "770/770 - 9s - loss: 1.3623e-04 - val_loss: 2.7424e-04\n",
      "Epoch 159/200\n",
      "770/770 - 10s - loss: 1.3621e-04 - val_loss: 2.7555e-04\n",
      "Epoch 160/200\n",
      "770/770 - 10s - loss: 1.3607e-04 - val_loss: 2.7328e-04\n",
      "Epoch 161/200\n",
      "770/770 - 9s - loss: 1.3605e-04 - val_loss: 2.7217e-04\n",
      "Epoch 162/200\n",
      "770/770 - 9s - loss: 1.3536e-04 - val_loss: 2.7576e-04\n",
      "Epoch 163/200\n",
      "770/770 - 10s - loss: 1.3589e-04 - val_loss: 2.7179e-04\n",
      "Epoch 164/200\n",
      "770/770 - 10s - loss: 1.3552e-04 - val_loss: 2.7223e-04\n",
      "Epoch 165/200\n",
      "770/770 - 11s - loss: 1.3495e-04 - val_loss: 2.7156e-04\n",
      "Epoch 166/200\n",
      "770/770 - 11s - loss: 1.3428e-04 - val_loss: 2.6303e-04\n",
      "Epoch 167/200\n",
      "770/770 - 10s - loss: 1.3447e-04 - val_loss: 2.6311e-04\n",
      "Epoch 168/200\n",
      "770/770 - 10s - loss: 1.3446e-04 - val_loss: 2.6473e-04\n",
      "Epoch 169/200\n",
      "770/770 - 11s - loss: 1.3403e-04 - val_loss: 2.6700e-04\n",
      "Epoch 170/200\n",
      "770/770 - 10s - loss: 1.3380e-04 - val_loss: 2.6437e-04\n",
      "Epoch 171/200\n",
      "770/770 - 9s - loss: 1.2999e-04 - val_loss: 2.7319e-04\n",
      "Epoch 172/200\n",
      "770/770 - 9s - loss: 1.3554e-04 - val_loss: 2.6891e-04\n",
      "Epoch 173/200\n",
      "770/770 - 10s - loss: 1.3468e-04 - val_loss: 2.6426e-04\n",
      "Epoch 174/200\n",
      "770/770 - 10s - loss: 1.3360e-04 - val_loss: 2.6044e-04\n",
      "Epoch 175/200\n",
      "770/770 - 9s - loss: 1.3290e-04 - val_loss: 2.6031e-04\n",
      "Epoch 176/200\n",
      "770/770 - 9s - loss: 1.3253e-04 - val_loss: 2.5744e-04\n",
      "Epoch 177/200\n",
      "770/770 - 9s - loss: 1.3230e-04 - val_loss: 2.5743e-04\n",
      "Epoch 178/200\n",
      "770/770 - 10s - loss: 1.3238e-04 - val_loss: 2.5528e-04\n",
      "Epoch 179/200\n",
      "770/770 - 9s - loss: 1.3220e-04 - val_loss: 2.6449e-04\n",
      "Epoch 180/200\n",
      "770/770 - 9s - loss: 1.3224e-04 - val_loss: 2.6078e-04\n",
      "Epoch 181/200\n",
      "770/770 - 9s - loss: 1.3192e-04 - val_loss: 2.6116e-04\n",
      "Epoch 182/200\n",
      "770/770 - 10s - loss: 1.3111e-04 - val_loss: 2.5728e-04\n",
      "Epoch 183/200\n",
      "770/770 - 9s - loss: 1.3094e-04 - val_loss: 2.5563e-04\n",
      "Epoch 184/200\n",
      "770/770 - 9s - loss: 1.3071e-04 - val_loss: 2.6075e-04\n",
      "Epoch 185/200\n",
      "770/770 - 9s - loss: 1.3081e-04 - val_loss: 2.5602e-04\n",
      "Epoch 186/200\n",
      "770/770 - 10s - loss: 1.3070e-04 - val_loss: 2.6025e-04\n",
      "Epoch 187/200\n",
      "770/770 - 10s - loss: 1.3044e-04 - val_loss: 2.5605e-04\n",
      "Epoch 188/200\n",
      "770/770 - 9s - loss: 1.3010e-04 - val_loss: 2.5936e-04\n",
      "Epoch 189/200\n",
      "770/770 - 9s - loss: 1.2999e-04 - val_loss: 2.5730e-04\n",
      "Epoch 190/200\n",
      "770/770 - 9s - loss: 1.3000e-04 - val_loss: 2.5628e-04\n",
      "Epoch 191/200\n",
      "770/770 - 10s - loss: 1.2940e-04 - val_loss: 2.5887e-04\n",
      "Epoch 192/200\n",
      "770/770 - 10s - loss: 1.2928e-04 - val_loss: 2.7695e-04\n",
      "Epoch 193/200\n",
      "770/770 - 9s - loss: 1.2978e-04 - val_loss: 2.7258e-04\n",
      "Epoch 194/200\n",
      "770/770 - 9s - loss: 1.2956e-04 - val_loss: 2.6263e-04\n",
      "Epoch 195/200\n",
      "770/770 - 9s - loss: 1.2897e-04 - val_loss: 2.6934e-04\n",
      "Epoch 196/200\n",
      "770/770 - 10s - loss: 1.2877e-04 - val_loss: 2.6641e-04\n",
      "Epoch 197/200\n",
      "770/770 - 9s - loss: 1.2858e-04 - val_loss: 2.6979e-04\n",
      "Epoch 198/200\n",
      "770/770 - 9s - loss: 1.2864e-04 - val_loss: 2.6653e-04\n",
      "Epoch 199/200\n",
      "770/770 - 9s - loss: 1.2278e-04 - val_loss: 2.6912e-04\n",
      "Epoch 200/200\n",
      "770/770 - 10s - loss: 1.2938e-04 - val_loss: 2.6744e-04\n"
     ]
    },
    {
     "name": "stderr",
     "output_type": "stream",
     "text": [
      "2022-09-11 19:14:51.139755: I tensorflow/compiler/mlir/mlir_graph_optimization_pass.cc:185] None of the MLIR Optimization Passes are enabled (registered 2)\n"
     ]
    }
   ],
   "source": [
    "# fit model\n",
    "history = model.fit(\n",
    "    X,\n",
    "    y,\n",
    "    epochs=200,\n",
    "    verbose=2,\n",
    "    validation_data=(valid_X, valid_y),\n",
    "    shuffle=False,\n",
    ")"
   ],
   "metadata": {
    "collapsed": false,
    "pycharm": {
     "name": "#%%\n"
    }
   }
  },
  {
   "cell_type": "code",
   "execution_count": 14,
   "outputs": [
    {
     "data": {
      "text/plain": "<Figure size 640x480 with 1 Axes>",
      "image/png": "[encoded data removed]"
     },
     "metadata": {},
     "output_type": "display_data"
    }
   ],
   "source": [
    "# display training curves\n",
    "display_training_curves(history.history['loss'], history.history['val_loss'], 'loss')"
   ],
   "metadata": {
    "collapsed": false,
    "pycharm": {
     "name": "#%%\n"
    }
   }
  },
  {
   "cell_type": "code",
   "execution_count": 15,
   "outputs": [],
   "source": [
    "# make a prediction\n",
    "y_predict = model.predict(valid_X)"
   ],
   "metadata": {
    "collapsed": false,
    "pycharm": {
     "name": "#%%\n"
    }
   }
  },
  {
   "cell_type": "code",
   "execution_count": 16,
   "outputs": [
    {
     "name": "stdout",
     "output_type": "stream",
     "text": [
      "Test RMSE: 84.995\n"
     ]
    }
   ],
   "source": [
    "# invert scaling for forecast\n",
    "inv_y_predict = scaler.inverse_transform(y_predict)\n",
    "# invert scaling for actual\n",
    "# test_y = test_y.reshape((len(test_y), 1))\n",
    "inv_y = scaler.inverse_transform(valid_y)\n",
    "# calculate RMSE\n",
    "rmse = sqrt(mean_squared_error(inv_y, inv_y_predict))\n",
    "print('Test RMSE: %.3f' % rmse)\n"
   ],
   "metadata": {
    "collapsed": false,
    "pycharm": {
     "name": "#%%\n"
    }
   }
  }
 ],
 "metadata": {
  "kernelspec": {
   "display_name": "Python 3",
   "language": "python",
   "name": "python3"
  },
  "language_info": {
   "codemirror_mode": {
    "name": "ipython",
    "version": 2
   },
   "file_extension": ".py",
   "mimetype": "text/x-python",
   "name": "python",
   "nbconvert_exporter": "python",
   "pygments_lexer": "ipython2",
   "version": "2.7.6"
  }
 },
 "nbformat": 4,
 "nbformat_minor": 0
}
