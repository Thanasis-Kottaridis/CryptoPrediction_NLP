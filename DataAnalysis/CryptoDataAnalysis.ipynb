{
 "cells": [
  {
   "cell_type": "code",
   "execution_count": null,
   "metadata": {
    "collapsed": true,
    "pycharm": {
     "is_executing": true
    }
   },
   "outputs": [],
   "source": [
    "import sys\n",
    "sys.path.insert(1, \"../\")\n",
    "\n",
    "import utils\n",
    "# Basic Imports\n",
    "import numpy as np\n",
    "import pandas as pd\n",
    "import matplotlib.pyplot as plt\n",
    "from sklearn.preprocessing import  MinMaxScaler\n",
    "\n",
    "# Deep learning import\n",
    "import tensorflow as tf\n",
    "\n",
    "# Evaluation Imports\n",
    "from sklearn.metrics import mean_squared_error\n",
    "from math import sqrt"
   ]
  },
  {
   "cell_type": "code",
   "execution_count": null,
   "outputs": [],
   "source": [
    "plt.style.use('default')\n",
    "\n",
    "DATA_FILE_NAME = '../Data/final_crypto_data.csv'\n",
    "SELECTED_FEATURES = [\n",
    "        'reddit_compound_polarity',\n",
    "\t\t# 'quote_volume_24h',\n",
    "        # 'volume_change_24h',\n",
    "        # 'percent_change_1h',\n",
    "        # 'percent_change_24h',\n",
    "        # 'percent_change_7d',\n",
    "\t\t# 'high_24h',\n",
    "        # 'last_24h',\n",
    "        # 'bid_24h',\n",
    "        # 'vwap_24h',\n",
    "        # 'volume_24h',\n",
    "        # 'low_24h',\n",
    "        # 'ask_24h',\n",
    "        # 'open_24h',\n",
    "        'volume_1min',\n",
    "        'high_1min',\n",
    "        'low_1min',\n",
    "        'open_1min',\n",
    "        'close_1min'\n",
    "    ]"
   ],
   "metadata": {
    "collapsed": false,
    "pycharm": {
     "is_executing": true
    }
   }
  },
  {
   "cell_type": "markdown",
   "source": [
    " ### Update Default number of DF columns"
   ],
   "metadata": {
    "collapsed": false
   }
  },
  {
   "cell_type": "code",
   "execution_count": null,
   "outputs": [],
   "source": [
    "print(f\"Default number of DF columns displayed {pd.get_option('display.max_columns')}\")\n",
    "\n",
    "# settings to display all columns\n",
    "pd.set_option(\"display.max_columns\", None)"
   ],
   "metadata": {
    "collapsed": false,
    "pycharm": {
     "is_executing": true
    }
   }
  },
  {
   "cell_type": "markdown",
   "source": [
    "# Load Dataset\n",
    "1. load dataset from CSV\n",
    "2. Make date time as index\n",
    "3. Drop unnecessary futures"
   ],
   "metadata": {
    "collapsed": false
   }
  },
  {
   "cell_type": "code",
   "execution_count": null,
   "outputs": [],
   "source": [
    "df = pd.read_csv (DATA_FILE_NAME)\n",
    "df = utils.setDateTimeAsIndex(df)\n",
    "df = utils.filterColumns(df, SELECTED_FEATURES)\n",
    "df"
   ],
   "metadata": {
    "collapsed": false,
    "pycharm": {
     "is_executing": true
    }
   }
  },
  {
   "cell_type": "markdown",
   "source": [
    "# Check dataset for Null Values"
   ],
   "metadata": {
    "collapsed": false
   }
  },
  {
   "cell_type": "code",
   "execution_count": null,
   "outputs": [],
   "source": [
    "# check for null values per column\n",
    "print(\"NaN values per column count: \\n\")\n",
    "df.isna().sum()"
   ],
   "metadata": {
    "collapsed": false,
    "pycharm": {
     "is_executing": true
    }
   }
  },
  {
   "cell_type": "code",
   "execution_count": null,
   "outputs": [],
   "source": [
    "df.columns"
   ],
   "metadata": {
    "collapsed": false,
    "pycharm": {
     "is_executing": true
    }
   }
  },
  {
   "cell_type": "code",
   "execution_count": null,
   "outputs": [],
   "source": [
    "# df.drop(['Unnamed: 0', '_id'], axis = 1, inplace = True)\n",
    "# df"
   ],
   "metadata": {
    "collapsed": false,
    "pycharm": {
     "is_executing": true
    }
   }
  },
  {
   "cell_type": "markdown",
   "source": [
    "## Describe Dataset"
   ],
   "metadata": {
    "collapsed": false
   }
  },
  {
   "cell_type": "code",
   "execution_count": null,
   "outputs": [],
   "source": [
    "describe = df.describe()\n",
    "describe"
   ],
   "metadata": {
    "collapsed": false,
    "pycharm": {
     "is_executing": true
    }
   }
  },
  {
   "cell_type": "code",
   "execution_count": null,
   "outputs": [],
   "source": [
    "describe.index"
   ],
   "metadata": {
    "collapsed": false,
    "pycharm": {
     "is_executing": true
    }
   }
  },
  {
   "cell_type": "code",
   "execution_count": null,
   "outputs": [],
   "source": [
    "describe.columns"
   ],
   "metadata": {
    "collapsed": false,
    "pycharm": {
     "is_executing": true
    }
   }
  },
  {
   "cell_type": "markdown",
   "source": [
    "## Get Correlation Graph\n",
    "\n",
    "Check the correlation between features"
   ],
   "metadata": {
    "collapsed": false
   }
  },
  {
   "cell_type": "code",
   "execution_count": null,
   "outputs": [],
   "source": [
    "import seaborn as sns\n",
    "\n",
    "corrMatrix = df.corr()\n",
    "display(corrMatrix.head())\n",
    "plt.figure(figsize =(30,20))\n",
    "sns.clustermap(corrMatrix, annot = True,  fmt = \".2f\")\n",
    "plt.show()"
   ],
   "metadata": {
    "collapsed": false,
    "pycharm": {
     "is_executing": true
    }
   }
  },
  {
   "cell_type": "markdown",
   "source": [],
   "metadata": {
    "collapsed": false
   }
  },
  {
   "cell_type": "markdown",
   "source": [
    "## Get dataset Monthly summary\n",
    "- Group dataset by months\n",
    "- Get the total price observations per month\n",
    "- Get month OCHL values and mean polarity."
   ],
   "metadata": {
    "collapsed": false
   }
  },
  {
   "cell_type": "code",
   "execution_count": null,
   "outputs": [],
   "source": [
    "count_df = df.groupby(pd.Grouper(freq='M'))['high_1min']\\\n",
    "        .agg(('count'))\\\n",
    "        .reset_index()\\\n",
    "        .rename(columns={\n",
    "        'high_1min':'monthly_count'\n",
    "})\n",
    "count_df"
   ],
   "metadata": {
    "collapsed": false,
    "pycharm": {
     "is_executing": true
    }
   }
  },
  {
   "cell_type": "code",
   "execution_count": null,
   "outputs": [],
   "source": [
    "# assuming your dataframe is called 'df' and the date column is the index\n",
    "ochl_polarity_df = df.groupby(pd.Grouper(freq='M'))\\\n",
    "        .agg(\n",
    "        {\n",
    "        'high_1min': 'max',\n",
    "        'low_1min': 'min',\n",
    "        'open_1min': 'first',\n",
    "        'close_1min': 'last',\n",
    "        'volume_1min': 'mean',\n",
    "        'reddit_compound_polarity': 'mean',\n",
    "        }\n",
    ").reset_index()\n",
    "ochl_polarity_df"
   ],
   "metadata": {
    "collapsed": false,
    "pycharm": {
     "is_executing": true
    }
   }
  },
  {
   "cell_type": "code",
   "execution_count": null,
   "outputs": [],
   "source": [
    "# Merge 2 DF\n",
    "monthly_summary_df = pd.merge(count_df, ochl_polarity_df, on='datetime')\n",
    "monthly_summary_df"
   ],
   "metadata": {
    "collapsed": false,
    "pycharm": {
     "is_executing": true
    }
   }
  },
  {
   "cell_type": "code",
   "execution_count": null,
   "outputs": [],
   "source": [
    "values = df.values\n",
    "i = 1"
   ],
   "metadata": {
    "collapsed": false,
    "pycharm": {
     "is_executing": true
    }
   }
  },
  {
   "cell_type": "code",
   "execution_count": null,
   "outputs": [],
   "source": [
    "# plot each column\n",
    "plt.figure(figsize=(15,9))\n",
    "for group in range(len(SELECTED_FEATURES)) :\n",
    "\tplt.subplot(len(SELECTED_FEATURES), 1, i)\n",
    "\tplt.plot(values[:, group])\n",
    "\tplt.title(df.columns[group], y=0.5, loc='right')\n",
    "\ti += 1\n",
    "plt.show()"
   ],
   "metadata": {
    "collapsed": false,
    "pycharm": {
     "is_executing": true
    }
   }
  },
  {
   "cell_type": "markdown",
   "source": [
    "# Split Dataset To Train, Validation and Test"
   ],
   "metadata": {
    "collapsed": false
   }
  },
  {
   "cell_type": "code",
   "execution_count": null,
   "outputs": [],
   "source": [
    "n_steps = 15\n",
    "X, y = utils.split_sequence(df['close_1min'], n_steps)\n",
    "X"
   ],
   "metadata": {
    "collapsed": false,
    "pycharm": {
     "is_executing": true
    }
   }
  },
  {
   "cell_type": "code",
   "execution_count": null,
   "outputs": [],
   "source": [
    "train_X, train_y, valid_X, valid_y, test_X, test_y = utils.train_test_valid_split(\n",
    "\tX,\n",
    "\ty,\n",
    "\ttrain_size=0.8,\n",
    "\tvalid_size=0.1\n",
    ")\n",
    "print(\"----------------------------\")\n",
    "print(f\"-------- Train X: {train_X.shape}, Train y: {train_y.shape} --------\")\n",
    "print(f\"-------- Valid X: {valid_X.shape}, Valid y: {valid_y.shape} --------\")\n",
    "print(f\"-------- Test X: {test_X.shape}, Test y: {test_y.shape} --------\")\n",
    "print(\"----------------------------\\n\")"
   ],
   "metadata": {
    "collapsed": false,
    "pycharm": {
     "is_executing": true
    }
   }
  },
  {
   "cell_type": "code",
   "execution_count": null,
   "outputs": [],
   "source": [
    "plt.figure(figsize=(10,6))\n",
    "plt.grid(True)\n",
    "plt.xlabel('Minute Observations')\n",
    "plt.ylabel('Closing Price')\n",
    "plt.plot(df['close_1min'][:len(train_y)], 'green', label='Train data')\n",
    "plt.plot(df['close_1min'][len(train_y):len(train_y)+len(valid_y)], 'blue', label='Validation data')\n",
    "plt.plot(df['close_1min'][len(train_y)+len(valid_y):], 'orange', label='Test data')\n",
    "plt.legend()"
   ],
   "metadata": {
    "collapsed": false,
    "pycharm": {
     "is_executing": true
    }
   }
  }
 ],
 "metadata": {
  "kernelspec": {
   "display_name": "Python 3",
   "language": "python",
   "name": "python3"
  },
  "language_info": {
   "codemirror_mode": {
    "name": "ipython",
    "version": 2
   },
   "file_extension": ".py",
   "mimetype": "text/x-python",
   "name": "python",
   "nbconvert_exporter": "python",
   "pygments_lexer": "ipython2",
   "version": "2.7.6"
  }
 },
 "nbformat": 4,
 "nbformat_minor": 0
}
